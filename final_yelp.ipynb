{
 "cells": [
  {
   "cell_type": "code",
   "execution_count": 1,
   "id": "626522c1",
   "metadata": {},
   "outputs": [],
   "source": [
    "import csv\n",
    "import time\n",
    "import random\n",
    "import requests\n",
    "from lxml import etree\n",
    "import pandas as pd"
   ]
  },
  {
   "cell_type": "code",
   "execution_count": 2,
   "id": "e2770d3d",
   "metadata": {},
   "outputs": [],
   "source": [
    "restaurants =pd.read_csv('sampled_restaurants.csv')\n",
    "reviews =pd.read_csv('reviews.csv')"
   ]
  },
  {
   "cell_type": "code",
   "execution_count": 3,
   "id": "e95394e5",
   "metadata": {},
   "outputs": [
    {
     "data": {
      "text/plain": [
       "Index(['city', 'title', 'rank', 'point', 'link', 'review_n', 'rank_review'], dtype='object')"
      ]
     },
     "execution_count": 3,
     "metadata": {},
     "output_type": "execute_result"
    }
   ],
   "source": [
    "restaurants.columns"
   ]
  },
  {
   "cell_type": "code",
   "execution_count": 4,
   "id": "231f91a2",
   "metadata": {},
   "outputs": [
    {
     "data": {
      "text/plain": [
       "Index(['city', 'restaurant', 'username', 'location', 'has_profile', 'friend',\n",
       "       'review', 'photo', 'text', 'date', 'rating', 'fake', 'local'],\n",
       "      dtype='object')"
      ]
     },
     "execution_count": 4,
     "metadata": {},
     "output_type": "execute_result"
    }
   ],
   "source": [
    "reviews.columns"
   ]
  },
  {
   "cell_type": "code",
   "execution_count": 5,
   "id": "e587e4e2",
   "metadata": {},
   "outputs": [],
   "source": [
    "restaurants = restaurants.rename(columns={'title': 'restaurant'})"
   ]
  },
  {
   "cell_type": "code",
   "execution_count": 6,
   "id": "9220b42b",
   "metadata": {},
   "outputs": [],
   "source": [
    "import re\n",
    "import html\n",
    "\n",
    "def remove_non_ascii(text):\n",
    "    # 先解码 HTML 实体编码，然后再去除非 ASCII 字符\n",
    "    text = html.unescape(str(text))\n",
    "    return re.sub(r'[^\\x00-\\x7F]+', '', text)\n",
    "\n",
    "# 在应用函数之前，确保 'text' 列中的所有值都是字符串\n",
    "reviews['restaurant'] = reviews['restaurant'].apply(remove_non_ascii)\n",
    "restaurants['restaurant'] = restaurants['restaurant'].apply(remove_non_ascii)"
   ]
  },
  {
   "cell_type": "code",
   "execution_count": 7,
   "id": "61c13b58",
   "metadata": {},
   "outputs": [],
   "source": [
    "final_yelp = restaurants.merge(reviews, on=['restaurant', 'city'], how='left')"
   ]
  },
  {
   "cell_type": "code",
   "execution_count": 8,
   "id": "80b0d9e1",
   "metadata": {},
   "outputs": [],
   "source": [
    "final_yelp.drop(columns=['link','rank_review'], inplace=True)"
   ]
  },
  {
   "cell_type": "code",
   "execution_count": 9,
   "id": "1a34f816",
   "metadata": {},
   "outputs": [
    {
     "data": {
      "text/plain": [
       "(486756, 16)"
      ]
     },
     "execution_count": 9,
     "metadata": {},
     "output_type": "execute_result"
    }
   ],
   "source": [
    "final_yelp.shape"
   ]
  },
  {
   "cell_type": "code",
   "execution_count": 10,
   "id": "e9b56cc5",
   "metadata": {},
   "outputs": [
    {
     "data": {
      "text/html": [
       "<div>\n",
       "<style scoped>\n",
       "    .dataframe tbody tr th:only-of-type {\n",
       "        vertical-align: middle;\n",
       "    }\n",
       "\n",
       "    .dataframe tbody tr th {\n",
       "        vertical-align: top;\n",
       "    }\n",
       "\n",
       "    .dataframe thead th {\n",
       "        text-align: right;\n",
       "    }\n",
       "</style>\n",
       "<table border=\"1\" class=\"dataframe\">\n",
       "  <thead>\n",
       "    <tr style=\"text-align: right;\">\n",
       "      <th></th>\n",
       "      <th>city</th>\n",
       "      <th>restaurant</th>\n",
       "      <th>rank</th>\n",
       "      <th>point</th>\n",
       "      <th>review_n</th>\n",
       "      <th>username</th>\n",
       "      <th>location</th>\n",
       "      <th>has_profile</th>\n",
       "      <th>friend</th>\n",
       "      <th>review</th>\n",
       "      <th>photo</th>\n",
       "      <th>text</th>\n",
       "      <th>date</th>\n",
       "      <th>rating</th>\n",
       "      <th>fake</th>\n",
       "      <th>local</th>\n",
       "    </tr>\n",
       "  </thead>\n",
       "  <tbody>\n",
       "    <tr>\n",
       "      <th>0</th>\n",
       "      <td>Alameda</td>\n",
       "      <td>Jong Ga House</td>\n",
       "      <td>236</td>\n",
       "      <td>4.0</td>\n",
       "      <td>2300.0</td>\n",
       "      <td>Ernesto B.</td>\n",
       "      <td>Oakland, CA</td>\n",
       "      <td>0.0</td>\n",
       "      <td>0.0</td>\n",
       "      <td>1.0</td>\n",
       "      <td>0.0</td>\n",
       "      <td>Amazing food, great people, good music. Strong...</td>\n",
       "      <td>8/25/2023</td>\n",
       "      <td>5.0</td>\n",
       "      <td>0.0</td>\n",
       "      <td>0.0</td>\n",
       "    </tr>\n",
       "    <tr>\n",
       "      <th>1</th>\n",
       "      <td>Alameda</td>\n",
       "      <td>Jong Ga House</td>\n",
       "      <td>236</td>\n",
       "      <td>4.0</td>\n",
       "      <td>2300.0</td>\n",
       "      <td>Katrina F.</td>\n",
       "      <td>San Francisco, CA</td>\n",
       "      <td>1.0</td>\n",
       "      <td>914.0</td>\n",
       "      <td>101.0</td>\n",
       "      <td>410.0</td>\n",
       "      <td>4 days prior, I called in a reservation for a ...</td>\n",
       "      <td>9/7/2023</td>\n",
       "      <td>5.0</td>\n",
       "      <td>0.0</td>\n",
       "      <td>0.0</td>\n",
       "    </tr>\n",
       "    <tr>\n",
       "      <th>2</th>\n",
       "      <td>Alameda</td>\n",
       "      <td>Jong Ga House</td>\n",
       "      <td>236</td>\n",
       "      <td>4.0</td>\n",
       "      <td>2300.0</td>\n",
       "      <td>Mario V.</td>\n",
       "      <td>San Francisco, CA</td>\n",
       "      <td>1.0</td>\n",
       "      <td>86.0</td>\n",
       "      <td>13.0</td>\n",
       "      <td>2.0</td>\n",
       "      <td>Edit: TLDR - &lt;br&gt;FORMER LOYAL CUSTOMER. &lt;br&gt;CO...</td>\n",
       "      <td>9/5/2023</td>\n",
       "      <td>1.0</td>\n",
       "      <td>0.0</td>\n",
       "      <td>0.0</td>\n",
       "    </tr>\n",
       "    <tr>\n",
       "      <th>3</th>\n",
       "      <td>Alameda</td>\n",
       "      <td>Jong Ga House</td>\n",
       "      <td>236</td>\n",
       "      <td>4.0</td>\n",
       "      <td>2300.0</td>\n",
       "      <td>Giselle A.</td>\n",
       "      <td>Martinez, CA</td>\n",
       "      <td>1.0</td>\n",
       "      <td>240.0</td>\n",
       "      <td>15.0</td>\n",
       "      <td>0.0</td>\n",
       "      <td>If you're looking for Korean BBQ, your search ...</td>\n",
       "      <td>9/4/2023</td>\n",
       "      <td>5.0</td>\n",
       "      <td>0.0</td>\n",
       "      <td>0.0</td>\n",
       "    </tr>\n",
       "    <tr>\n",
       "      <th>4</th>\n",
       "      <td>Alameda</td>\n",
       "      <td>Jong Ga House</td>\n",
       "      <td>236</td>\n",
       "      <td>4.0</td>\n",
       "      <td>2300.0</td>\n",
       "      <td>Seth E.</td>\n",
       "      <td>Dublin, CA</td>\n",
       "      <td>1.0</td>\n",
       "      <td>249.0</td>\n",
       "      <td>40.0</td>\n",
       "      <td>76.0</td>\n",
       "      <td>This is my second time here and we had made a ...</td>\n",
       "      <td>8/30/2023</td>\n",
       "      <td>4.0</td>\n",
       "      <td>0.0</td>\n",
       "      <td>0.0</td>\n",
       "    </tr>\n",
       "  </tbody>\n",
       "</table>\n",
       "</div>"
      ],
      "text/plain": [
       "      city     restaurant  rank  point  review_n    username  \\\n",
       "0  Alameda  Jong Ga House   236    4.0    2300.0  Ernesto B.   \n",
       "1  Alameda  Jong Ga House   236    4.0    2300.0  Katrina F.   \n",
       "2  Alameda  Jong Ga House   236    4.0    2300.0    Mario V.   \n",
       "3  Alameda  Jong Ga House   236    4.0    2300.0  Giselle A.   \n",
       "4  Alameda  Jong Ga House   236    4.0    2300.0     Seth E.   \n",
       "\n",
       "            location  has_profile  friend  review  photo  \\\n",
       "0        Oakland, CA          0.0     0.0     1.0    0.0   \n",
       "1  San Francisco, CA          1.0   914.0   101.0  410.0   \n",
       "2  San Francisco, CA          1.0    86.0    13.0    2.0   \n",
       "3       Martinez, CA          1.0   240.0    15.0    0.0   \n",
       "4         Dublin, CA          1.0   249.0    40.0   76.0   \n",
       "\n",
       "                                                text       date  rating  fake  \\\n",
       "0  Amazing food, great people, good music. Strong...  8/25/2023     5.0   0.0   \n",
       "1  4 days prior, I called in a reservation for a ...   9/7/2023     5.0   0.0   \n",
       "2  Edit: TLDR - <br>FORMER LOYAL CUSTOMER. <br>CO...   9/5/2023     1.0   0.0   \n",
       "3  If you're looking for Korean BBQ, your search ...   9/4/2023     5.0   0.0   \n",
       "4  This is my second time here and we had made a ...  8/30/2023     4.0   0.0   \n",
       "\n",
       "   local  \n",
       "0    0.0  \n",
       "1    0.0  \n",
       "2    0.0  \n",
       "3    0.0  \n",
       "4    0.0  "
      ]
     },
     "metadata": {},
     "output_type": "display_data"
    }
   ],
   "source": [
    "table = final_yelp.head()\n",
    "display(table)"
   ]
  },
  {
   "cell_type": "code",
   "execution_count": 11,
   "id": "1076292e",
   "metadata": {},
   "outputs": [
    {
     "data": {
      "text/plain": [
       "5.0    242691\n",
       "4.0    122839\n",
       "3.0     52450\n",
       "1.0     36648\n",
       "2.0     32126\n",
       "Name: rating, dtype: int64"
      ]
     },
     "execution_count": 11,
     "metadata": {},
     "output_type": "execute_result"
    }
   ],
   "source": [
    "final_yelp['rating'].value_counts()"
   ]
  },
  {
   "cell_type": "code",
   "execution_count": 12,
   "id": "c4e33b11",
   "metadata": {},
   "outputs": [],
   "source": [
    "final_yelp.to_csv('yelp.csv')"
   ]
  },
  {
   "cell_type": "code",
   "execution_count": 31,
   "id": "bf7e226c",
   "metadata": {},
   "outputs": [
    {
     "data": {
      "image/png": "[encoded data removed]",
      "text/plain": [
       "<Figure size 1200x600 with 2 Axes>"
      ]
     },
     "metadata": {},
     "output_type": "display_data"
    }
   ],
   "source": [
    "recommend_reviews = final_yelp[final_yelp['fake'] == 0]\n",
    "non_recommend_reviews = final_yelp[final_yelp['fake'] == 1]\n",
    "\n",
    "# 获取所有评分的唯一值\n",
    "unique_ratings = final_yelp['chain'].unique()\n",
    "\n",
    "# 设置颜色循环，确保相同评分值具有相同的颜色\n",
    "colors = plt.cm.Paired(range(len(unique_ratings)))\n",
    "\n",
    "# 绘制推荐评论的饼状图\n",
    "plt.figure(figsize=(12, 6))\n",
    "plt.subplot(121)\n",
    "plt.gca().set_prop_cycle('color', colors)\n",
    "plt.pie(recommend_reviews['local'].value_counts(), labels=unique_ratings, autopct='%1.1f%%', startangle=140)\n",
    "plt.title('Recommended Reviews local')\n",
    "\n",
    "# 绘制非推荐评论的饼状图\n",
    "plt.subplot(122)\n",
    "plt.gca().set_prop_cycle('color', colors)\n",
    "plt.pie(non_recommend_reviews['local'].value_counts(), labels=unique_ratings, autopct='%1.1f%%', startangle=140)\n",
    "plt.title('Non-Recommended Reviews local')\n",
    "\n",
    "plt.tight_layout()\n",
    "plt.show()"
   ]
  }
 ],
 "metadata": {
  "kernelspec": {
   "display_name": "Python 3 (ipykernel)",
   "language": "python",
   "name": "python3"
  },
  "language_info": {
   "codemirror_mode": {
    "name": "ipython",
    "version": 3
   },
   "file_extension": ".py",
   "mimetype": "text/x-python",
   "name": "python",
   "nbconvert_exporter": "python",
   "pygments_lexer": "ipython3",
   "version": "3.10.10"
  }
 },
 "nbformat": 4,
 "nbformat_minor": 5
}
