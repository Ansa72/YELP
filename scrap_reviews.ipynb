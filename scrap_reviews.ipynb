{
 "cells": [
  {
   "cell_type": "code",
   "execution_count": 1,
   "id": "bf53cefc",
   "metadata": {},
   "outputs": [],
   "source": [
    "import csv\n",
    "import re\n",
    "import time\n",
    "import requests\n",
    "import pandas as pd\n",
    "import math"
   ]
  },
  {
   "cell_type": "markdown",
   "id": "d6259473",
   "metadata": {},
   "source": [
    "# sampling restaurants"
   ]
  },
  {
   "cell_type": "raw",
   "id": "cf867ff3",
   "metadata": {},
   "source": [
    "all_restaurant = pd.read_csv('没有抽样的餐厅.csv')"
   ]
  },
  {
   "cell_type": "raw",
   "id": "f2ed5199",
   "metadata": {},
   "source": [
    "all_restaurant.shape"
   ]
  },
  {
   "cell_type": "markdown",
   "id": "61ae88e8",
   "metadata": {},
   "source": [
    "rank 전처리"
   ]
  },
  {
   "cell_type": "raw",
   "id": "5ca92e98",
   "metadata": {},
   "source": [
    "all_restaurant['city_restaurant_no'] = all_restaurant.groupby('city')['rank'].transform('count')"
   ]
  },
  {
   "cell_type": "raw",
   "id": "45e099cd",
   "metadata": {},
   "source": [
    "all_restaurant['review'] = all_restaurant['review'].str.replace(r'\\(|\\)', '', regex=True)\n",
    "all_restaurant['review'] = all_restaurant['review'].str.rsplit(' ', n=1).str[0]\n",
    "all_restaurant['review_n'] = pd.to_numeric(all_restaurant['review'], errors='coerce')\n",
    "all_restaurant['review_k'] = all_restaurant['review'].where(all_restaurant['review'].str.contains('k'), None)\n",
    "all_restaurant['review_k']= all_restaurant['review_k'].str.replace('k', '').astype(float) * 1000\n",
    "all_restaurant['review_n'].fillna(all_restaurant['review_k'], inplace=True)\n",
    "all_restaurant.drop(columns=['review_k','review'], inplace=True)"
   ]
  },
  {
   "cell_type": "markdown",
   "id": "bf281b26",
   "metadata": {},
   "source": [
    "240page 있는 도시만 보류"
   ]
  },
  {
   "cell_type": "raw",
   "id": "53c0e5c6",
   "metadata": {},
   "source": [
    "sample1_restaurant = all_restaurant[all_restaurant['city_restaurant_no'] == 240]"
   ]
  },
  {
   "cell_type": "raw",
   "id": "25b9af12",
   "metadata": {},
   "source": [
    "sample1_restaurant.shape"
   ]
  },
  {
   "cell_type": "markdown",
   "id": "2c81cd7b",
   "metadata": {},
   "source": [
    "240page 있는 도시중 random 50개 선택"
   ]
  },
  {
   "cell_type": "raw",
   "id": "94cbd8e1",
   "metadata": {},
   "source": [
    "import pandas as pd\n",
    "import random\n",
    "\n",
    "# 假设您的数据集是一个名为'df'的pandas DataFrame，包含'city'和'title'列\n",
    "# 获取所有唯一的城市名称\n",
    "unique_cities = sample1_restaurant['city'].unique()\n",
    "\n",
    "# 随机选择50个城市\n",
    "random.seed(42) \n",
    "selected_cities = random.sample(list(unique_cities), 50)\n",
    "\n",
    "# 使用选择的城市名称来过滤数据集\n",
    "filtered_df = sample1_restaurant[sample1_restaurant['city'].isin(selected_cities)]"
   ]
  },
  {
   "cell_type": "raw",
   "id": "bf24af3b",
   "metadata": {},
   "source": [
    "filtered_df.shape"
   ]
  },
  {
   "cell_type": "markdown",
   "id": "1b77597e",
   "metadata": {},
   "source": [
    "review수에 따라 rank 하기"
   ]
  },
  {
   "cell_type": "raw",
   "id": "b30b9efa",
   "metadata": {},
   "source": [
    "filtered_df['rank'] = filtered_df.groupby('city')['review_n'].rank(method='first', ascending=False)"
   ]
  },
  {
   "cell_type": "markdown",
   "id": "874cffa6",
   "metadata": {},
   "source": [
    "sampeling 50개 도시중에 식당"
   ]
  },
  {
   "cell_type": "raw",
   "id": "a101e4cc",
   "metadata": {},
   "source": [
    "# 假设filtered_df包含了50个城市的数据，每个城市有240个餐厅的信息，\n",
    "# 并且已经按照'city'分组，每个城市内的餐厅已经根据'review_n'排好序，并有'rank'列\n",
    "\n",
    "# 创建一个空的DataFrame，用于存储抽样结果\n",
    "sampled_restaurants = pd.DataFrame(columns=filtered_df.columns)\n",
    "\n",
    "# 遍历每个城市\n",
    "for city, group in filtered_df.groupby('city'):\n",
    "    # 遍历每个组\n",
    "    for i in range(5):\n",
    "        # 计算每个组的起始和结束rank\n",
    "        start_rank = i * 48 + 1\n",
    "        end_rank = (i + 1) * 48\n",
    "        \n",
    "        # 对于最后一组，确保不超过餐厅总数\n",
    "        if i == 4:\n",
    "            end_rank = group.shape[0]\n",
    "        \n",
    "        # 获取当前组的餐厅\n",
    "        current_group = group[(group['rank'] >= start_rank) & (group['rank'] <= end_rank)]\n",
    "        \n",
    "        # 计算要抽取的餐厅数量\n",
    "        num_samples = 5 - i  # 第一组抽取5个，第二组抽取4个，以此类推\n",
    "        \n",
    "        # 随机抽取餐厅\n",
    "        sampled_group = current_group.sample(n=num_samples, random_state=2613)  # 使用random_state以确保可复现性\n",
    "        \n",
    "        # 将抽样结果添加到sampled_restaurants中\n",
    "        sampled_restaurants = pd.concat([sampled_restaurants, sampled_group])\n",
    "\n",
    "# sampled_restaurants中包含了按照您的要求抽样的餐厅数据"
   ]
  },
  {
   "cell_type": "raw",
   "id": "41f280dc",
   "metadata": {},
   "source": [
    "sampled_restaurants.drop(columns=['city_restaurant_no'], inplace=True)"
   ]
  },
  {
   "cell_type": "raw",
   "id": "a3f656b5",
   "metadata": {},
   "source": [
    "sampled_restaurants.shape"
   ]
  },
  {
   "cell_type": "raw",
   "id": "792873b9",
   "metadata": {},
   "source": [
    "sampled_restaurants.columns"
   ]
  },
  {
   "cell_type": "raw",
   "id": "8d6b1aae",
   "metadata": {},
   "source": [
    "sampled_restaurants.to_csv('sampling_restaurants.csv', index=False)"
   ]
  },
  {
   "cell_type": "markdown",
   "id": "551c9058",
   "metadata": {},
   "source": [
    "# recommend"
   ]
  },
  {
   "cell_type": "raw",
   "id": "bd110dda",
   "metadata": {},
   "source": [
    "# 打开原始CSV文件和目标CSV文件\n",
    "with open('sampling_restaurants.csv', 'r', newline='', encoding='utf-8') as source_file, open('sampling_restaurants_1.csv', 'w', newline='', encoding='utf-8') as target_file:\n",
    "    # 创建CSV读取器和写入器对象\n",
    "    csv_reader = csv.reader(source_file)\n",
    "    csv_writer = csv.writer(target_file)\n",
    "\n",
    "    # 读取原始文件的行计数\n",
    "    line_count = 0\n",
    "\n",
    "    # 循环遍历原始文件的每一行\n",
    "    for row in csv_reader:\n",
    "        # 如果行数在1到80之间，则跳过该行\n",
    "        if 0 <= line_count <= 135:\n",
    "            pass\n",
    "        else:\n",
    "            # 否则将行写入新文件\n",
    "            csv_writer.writerow(row)\n",
    "\n",
    "        # 增加行数计数\n",
    "        line_count += 1\n",
    "\n",
    "# 完成后，关闭文件\n",
    "source_file.close()\n",
    "target_file.close()"
   ]
  },
  {
   "cell_type": "raw",
   "id": "216d714f",
   "metadata": {},
   "source": [
    "import logging\n",
    "\n",
    "# 禁用 requests 日志\n",
    "logging.getLogger(\"requests\").setLevel(logging.WARNING)"
   ]
  },
  {
   "cell_type": "raw",
   "id": "fc502909",
   "metadata": {},
   "source": [
    "new_save_obj = {\n",
    "    'city': [],\n",
    "    'name': [],\n",
    "    'markupDisplayName': [],\n",
    "    'displayLocation': [],\n",
    "    'src': [],\n",
    "    'friendCount': [],\n",
    "    'reviewCount': [],\n",
    "    'photoCount': [],\n",
    "    'text': [],\n",
    "    'localizedDate': [],\n",
    "    'rating': []\n",
    "}"
   ]
  },
  {
   "cell_type": "raw",
   "id": "90e6d6ef",
   "metadata": {},
   "source": [
    "headers = {\n",
    "    'Accept': 'text/html,application/xhtml+xml,application/xml;q=0.9,image/webp,image/apng,*/*;q=0.8,application/signed-exchange;v=b3;q=0.7',\n",
    "    'Cookie': 'bse=aaf54a8504e5459ca9054b9b9f4710a5; hl=en_US; wdi=2|D2EB2C37FE7743B2|0x1.93bd4df9d0fdp+30|620d088025fbf980; g_state={\"i_p\":1694152357210,\"i_l\":3}; recentlocations=Napa%2C+CA%2C+US%3B%3BNapa%2C+CA%3B%3BScottsdale%2C+AZ%2C+US%3B%3Bscottsdale-az-us%3B%3BScottsdale%2C+AZ%3B%3BPhoenix%3B%3BPhoenix%2C%3B%3BPhoenix%2C+AZ; location=%7B%22parent_id%22%3A+45%2C+%22address2%22%3A+%22%22%2C+%22longitude%22%3A+-111.92734753081055%2C+%22unformatted%22%3A+%22Scottsdale%2CAz%2CUs%22%2C+%22country%22%3A+%22US%22%2C+%22state%22%3A+%22AZ%22%2C+%22min_longitude%22%3A+-111.96138300000001%2C+%22county%22%3A+%22Maricopa+County%22%2C+%22city%22%3A+%22Scottsdale%22%2C+%22zip%22%3A+%22%22%2C+%22max_longitude%22%3A+-111.78791197617181%2C+%22accuracy%22%3A+4%2C+%22address1%22%3A+%22%22%2C+%22provenance%22%3A+%22YELP_GEOCODING_ENGINE%22%2C+%22display%22%3A+%22Scottsdale%2C+AZ%22%2C+%22location_type%22%3A+%22locality%22%2C+%22max_latitude%22%3A+33.85662465458778%2C+%22latitude%22%3A+33.499404636990256%2C+%22min_latitude%22%3A+33.45888641584279%2C+%22place_id%22%3A+%221356%22%2C+%22address3%22%3A+%22%22%2C+%22borough%22%3A+%22%22%2C+%22isGoogleHood%22%3A+false%2C+%22language%22%3A+null%2C+%22neighborhood%22%3A+%22%22%2C+%22polygons%22%3A+null%2C+%22usingDefaultZip%22%3A+false%2C+%22confident%22%3A+null%7D; uuac=jtodetbQyzuhlENNTvh6ld1FwqP6O_njNJ916PV9xdc; xcj=1|S5GtD2HESk29dph8RthkrcS0KahFNOu-VJHcEGkX0Os; bsi=1%7C962f2aa9-34f1-4eda-bf8e-98d7a24f6576%7C1693658660936%7C1693658627429; pid=ff8fbdc1a83a132b; OptanonConsent=isGpcEnabled=0&datestamp=Sat+Sep+02+2023+21%3A24%3A15+GMT%2B0800+(China+Standard+Time)&version=202304.1.0&browserGpcFlag=0&isIABGlobal=false&hosts=&consentId=59068ef4-6e29-4e04-90d8-d198c5b69c75&interactionCount=1&landingPath=https%3A%2F%2Fwww.yelp.com%2Fnot_recommended_reviews%2Fs-and-v-urban-italian-scottsdale%3Fnot_recommended_start%3D10&groups=BG82%3A1%2CC0003%3A1%2CC0002%3A1%2CC0001%3A1%2CC0004%3A1',\n",
    "    'User-Agent': 'Mozilla/5.0 (Windows NT 10.0; Win64; x64) AppleWebKit/537.36 (KHTML, like Gecko) Chrome/116.0.0.0 Safari/537.36 Edg/116.0.1938.62'\n",
    "}"
   ]
  },
  {
   "cell_type": "code",
   "execution_count": 1,
   "id": "6baec0ba",
   "metadata": {},
   "outputs": [
    {
     "ename": "NameError",
     "evalue": "name 'csv' is not defined",
     "output_type": "error",
     "traceback": [
      "\u001b[1;31m---------------------------------------------------------------------------\u001b[0m",
      "\u001b[1;31mNameError\u001b[0m                                 Traceback (most recent call last)",
      "Cell \u001b[1;32mIn[1], line 2\u001b[0m\n\u001b[0;32m      1\u001b[0m \u001b[38;5;28;01mwith\u001b[39;00m \u001b[38;5;28mopen\u001b[39m(\u001b[38;5;124m'\u001b[39m\u001b[38;5;124msampling_restaurants.csv\u001b[39m\u001b[38;5;124m'\u001b[39m, \u001b[38;5;124m'\u001b[39m\u001b[38;5;124mr\u001b[39m\u001b[38;5;124m'\u001b[39m,encoding\u001b[38;5;241m=\u001b[39m\u001b[38;5;124m'\u001b[39m\u001b[38;5;124mutf-8\u001b[39m\u001b[38;5;124m'\u001b[39m) \u001b[38;5;28;01mas\u001b[39;00m f:\n\u001b[1;32m----> 2\u001b[0m     reader \u001b[38;5;241m=\u001b[39m \u001b[43mcsv\u001b[49m\u001b[38;5;241m.\u001b[39mreader(f)\n\u001b[0;32m      3\u001b[0m     \u001b[38;5;28mnext\u001b[39m(reader)\n\u001b[0;32m      4\u001b[0m     \u001b[38;5;28;01mfor\u001b[39;00m row \u001b[38;5;129;01min\u001b[39;00m reader:\n",
      "\u001b[1;31mNameError\u001b[0m: name 'csv' is not defined"
     ]
    }
   ],
   "source": [
    "with open('sampling_restaurants.csv', 'r',encoding='utf-8') as f:\n",
    "    reader = csv.reader(f)\n",
    "    next(reader)\n",
    "    for row in reader:\n",
    "        city = row[0]\n",
    "        name = row[1]\n",
    "        link = row[5]\n",
    "\n",
    "        url1 = f'https://www.yelp.com{link}/review_feed?rl=en&q=&sort_by=relevance_desc&start=0'\n",
    "        print(name)\n",
    "        try:\n",
    "            res = requests.get(url=url1, headers=headers)\n",
    "        except:\n",
    "            time.sleep(500)\n",
    "            res = requests.get(url=url1, headers=headers)\n",
    "        try:\n",
    "            count = re.findall('\"count\": (.*?)}', res.text)[0]\n",
    "            page = math.ceil(int(count) / 10)\n",
    "            print(page)\n",
    "        except:\n",
    "            page = 0\n",
    "\n",
    "        for i in range(0, page):\n",
    "            time.sleep(1)\n",
    "            url = f'https://www.yelp.com{link}/review_feed?rl=en&q=&sort_by=relevance_desc&start={i * 10}'\n",
    "            print(url)\n",
    "            try:\n",
    "                r = requests.get(url=url, headers=headers)\n",
    "            except:\n",
    "                time.sleep(500)\n",
    "                r = requests.get(url=url, headers=headers)\n",
    "            \n",
    "            r = requests.get(url=url, headers=headers)\n",
    "            tree = etree.HTML(r.text)\n",
    "            al = re.findall('\"userId\"([\\S\\s]*?)]}[,\\]]', r.text)\n",
    "            print(len(al))\n",
    "\n",
    "            if len(al) == 0:\n",
    "                time.sleep(500)\n",
    "                r = requests.get(url=url, headers=headers)\n",
    "                al = re.findall('\"userId\"([\\S\\s]*?)]}[,\\]]', r.text)\n",
    "                print(len(al))\n",
    "                if len(al) == 0:\n",
    "                    break\n",
    "\n",
    "            for a in al:\n",
    "                # print(a)\n",
    "                markupDisplayName = re.findall('\"markupDisplayName\": \"([\\S\\s]*?)\",', a)[0].strip()  # 用户名\n",
    "                displayLocation = re.findall('\"displayLocation\": \"([\\S\\s]*?)\",', a)[0].strip()  # 地址\n",
    "                src = re.findall('\"src\": \"([\\S\\s]*?)\",', a)[0].strip()  # 头像\n",
    "                friendCount = re.findall('\"friendCount\": ([\\S\\s]*?),', a)[0].strip()  # 朋友数\n",
    "                reviewCount = re.findall('\"reviewCount\": ([\\S\\s]*?),', a)[0].strip()  # 评论数\n",
    "                photoCount = re.findall('\"photoCount\": ([\\S\\s]*?),', a)[0].strip()  # 评论数\n",
    "                text = re.findall('\"text\": \"([\\S\\s]*?)\",', a)[0].strip()\n",
    "                localizedDate = re.findall('\"localizedDate\": \"([\\S\\s]*?)\",', a)[0].strip()\n",
    "                rating = re.findall('\"rating\": ([\\S\\s]*?),', a)[0].strip()\n",
    "\n",
    "                #print(markupDisplayName, displayLocation, src, friendCount, reviewCount, photoCount, text, localizedDate, rating)\n",
    "\n",
    "                new_save_obj['city'].append(city)\n",
    "                new_save_obj['name'].append(name)\n",
    "                new_save_obj['markupDisplayName'].append(markupDisplayName)\n",
    "                new_save_obj['displayLocation'].append(displayLocation)\n",
    "                new_save_obj['src'].append(src)\n",
    "                new_save_obj['friendCount'].append(friendCount)\n",
    "                new_save_obj['reviewCount'].append(reviewCount)\n",
    "                new_save_obj['photoCount'].append(photoCount)\n",
    "                new_save_obj['text'].append(text)\n",
    "                new_save_obj['localizedDate'].append(localizedDate)\n",
    "                new_save_obj['rating'].append(rating)\n",
    "\n",
    "            df = pd.DataFrame(new_save_obj)\n",
    "            df.to_csv('recommend_reviews.csv', index=False)"
   ]
  },
  {
   "cell_type": "raw",
   "id": "ff1940b0",
   "metadata": {},
   "source": [
    "import pandas as pd\n",
    "\n",
    "# 创建一个空的DataFrame来存储合并后的数据\n",
    "merged_df = pd.DataFrame()\n",
    "\n",
    "# 用一个循环来读取多个CSV文件并合并它们\n",
    "file_list = ['recommend_reviews_1.csv', 'recommend_reviews_2.csv', 'recommend_reviews_3.csv','recommend_reviews_4.csv','recommend_reviews_5.csv','recommend_reviews_6.csv','recommend_reviews_7.csv','recommend_reviews_8.csv','recommend_reviews_3_5.csv','recommend_reviews_3_52.csv']  # 将文件名替换为您的文件列表\n",
    "for file_name in file_list:\n",
    "    # 读取CSV文件\n",
    "    df = pd.read_csv(file_name)\n",
    "\n",
    "    # 删除重复的行，只保留唯一的行\n",
    "    df = df.drop_duplicates()\n",
    "\n",
    "    # 将当前文件的数据追加到合并的DataFrame中\n",
    "    merged_df = merged_df.append(df, ignore_index=True)\n",
    "\n",
    "# 将合并后的数据保存为新的CSV文件\n",
    "merged_df.to_csv('recommend_reviews.csv', index=False)"
   ]
  },
  {
   "cell_type": "code",
   "execution_count": null,
   "id": "2e6b3624",
   "metadata": {},
   "outputs": [],
   "source": [
    "recommend_reviews =pd.read_csv('recommend_reviews.csv')"
   ]
  },
  {
   "cell_type": "code",
   "execution_count": 9,
   "id": "5302ea8d",
   "metadata": {},
   "outputs": [],
   "source": [
    "# import pandas as pd\n",
    "\n",
    "# # 读取数据集\n",
    "# df = pd.read_csv('recommend_reviews.csv')\n",
    "\n",
    "# 使用drop_duplicates方法删除具有相同值的重复行，保留第一个出现的行\n",
    "df_cleaned = df.drop_duplicates(subset=['name', 'markupDisplayName', 'localizedDate'])\n",
    "\n",
    "# 保存清理后的数据集\n",
    "df_cleaned.to_csv('recommend_reviews.csv', index=False)"
   ]
  },
  {
   "cell_type": "code",
   "execution_count": 10,
   "id": "b2f5e0f1",
   "metadata": {},
   "outputs": [
    {
     "data": {
      "text/plain": [
       "(438453, 11)"
      ]
     },
     "execution_count": 10,
     "metadata": {},
     "output_type": "execute_result"
    }
   ],
   "source": [
    "df_cleaned.shape"
   ]
  },
  {
   "cell_type": "markdown",
   "id": "8d49ed80",
   "metadata": {},
   "source": [
    "# non_recommend"
   ]
  },
  {
   "cell_type": "raw",
   "id": "1b69fc8a",
   "metadata": {},
   "source": [
    "new_save_obj = {\n",
    "    'city': [],\n",
    "    'r_name': [],\n",
    "    'username': [],\n",
    "    'text': [],\n",
    "    'address': [],\n",
    "    'star': [],\n",
    "    'src': [],\n",
    "    'time': [],\n",
    "    'friend_count': [],\n",
    "    'review_count': [],\n",
    "    'photo_count': []\n",
    "}"
   ]
  },
  {
   "cell_type": "raw",
   "id": "d6ba6a68",
   "metadata": {},
   "source": [
    "with open('sampling_restaurants.csv', 'r', encoding='utf-8') as f:\n",
    "    reader = csv.reader(f)\n",
    "    next(reader)\n",
    "    \n",
    "    for row in reader:\n",
    "        print(row)\n",
    "        city = row[0]\n",
    "        r_name = row[1]\n",
    "        link = re.findall('/biz/([\\s\\S]+)', row[5])[0]\n",
    "        print(city, r_name, link)\n",
    "        time.sleep(1)\n",
    "\n",
    "        try:\n",
    "            url = f'https://www.yelp.com/not_recommended_reviews/{link}?not_recommended_start=0'\n",
    "            headers = {\n",
    "                'Cookie': 'bse=aaf54a8504e5459ca9054b9b9f4710a5; hl=en_US; wdi=2|D2EB2C37FE7743B2|0x1.93bd4df9d0fdp+30|620d088025fbf980; g_state={\"i_p\":1694152357210,\"i_l\":3}; recentlocations=Napa%2C+CA%2C+US%3B%3BNapa%2C+CA%3B%3BScottsdale%2C+AZ%2C+US%3B%3Bscottsdale-az-us%3B%3BScottsdale%2C+AZ%3B%3BPhoenix%3B%3BPhoenix%2C%3B%3BPhoenix%2C+AZ; location=%7B%22parent_id%22%3A+45%2C+%22address2%22%3A+%22%22%2C+%22longitude%22%3A+-111.92734753081055%2C+%22unformatted%22%3A+%22Scottsdale%2CAz%2CUs%22%2C+%22country%22%3A+%22US%22%2C+%22state%22%3A+%22AZ%22%2C+%22min_longitude%22%3A+-111.96138300000001%2C+%22county%22%3A+%22Maricopa+County%22%2C+%22city%22%3A+%22Scottsdale%22%2C+%22zip%22%3A+%22%22%2C+%22max_longitude%22%3A+-111.78791197617181%2C+%22accuracy%22%3A+4%2C+%22address1%22%3A+%22%22%2C+%22provenance%22%3A+%22YELP_GEOCODING_ENGINE%22%2C+%22display%22%3A+%22Scottsdale%2C+AZ%22%2C+%22location_type%22%3A+%22locality%22%2C+%22max_latitude%22%3A+33.85662465458778%2C+%22latitude%22%3A+33.499404636990256%2C+%22min_latitude%22%3A+33.45888641584279%2C+%22place_id%22%3A+%221356%22%2C+%22address3%22%3A+%22%22%2C+%22borough%22%3A+%22%22%2C+%22isGoogleHood%22%3A+false%2C+%22language%22%3A+null%2C+%22neighborhood%22%3A+%22%22%2C+%22polygons%22%3A+null%2C+%22usingDefaultZip%22%3A+false%2C+%22confident%22%3A+null%7D; uuac=8Z-ed34nC9QzNfzXVSYaCk1Ms9Wriixl-3R4Z13bck8; xcj=1|scCpKe9qvNguwAq4c3UElPl46F8Qjv_-QrGY-qMpDyc; pid=5407bc2656dd1e95; bsi=1%7C89801f15-bb89-4c3d-a53c-b0d0d80ca82f%7C1693787054327%7C1693787054324; OptanonConsent=isGpcEnabled=0&datestamp=Mon+Sep+04+2023+08%3A25%3A08+GMT%2B0800+(China+Standard+Time)&version=202304.1.0&browserGpcFlag=0&isIABGlobal=false&hosts=&consentId=05cf4f18-d283-4cd8-9fb8-4efb8c3dcc82&interactionCount=1&landingPath=https%3A%2F%2Fwww.yelp.com%2Fnot_recommended_reviews%2Fs-and-v-urban-italian-scottsdale%3Fnot_recommended_start%3D10&groups=BG82%3A1%2CC0003%3A1%2CC0002%3A1%2CC0001%3A1%2CC0004%3A1',\n",
    "                'User-Agent': 'Mozilla/5.0 (Windows NT 10.0; Win64; x64) AppleWebKit/537.36 (KHTML, like Gecko) Chrome/116.0.0.0 Safari/537.36 Edg/116.0.1938.62'\n",
    "            }\n",
    "            r = requests.get(url=url,headers=headers)\n",
    "            tree = etree.HTML(r.text)\n",
    "            try:\n",
    "                count_info = tree.xpath('.//div[@class=\"ysection not-recommended-reviews review-list-wide\"]/h3/text()')[0]\n",
    "                count = re.findall('([0-9]*?) reviews', count_info)[0].strip()\n",
    "                page = math.ceil(int(count) / 10)\n",
    "                print(f'页数:{page}')\n",
    "                al = tree.xpath('.//div[@class=\"ysection not-recommended-reviews review-list-wide\"]/ul[@class=\"ylist ylist-bordered reviews\"]/li')\n",
    "                print(len(al))\n",
    "            except:\n",
    "                continue\n",
    "            for a in al:\n",
    "                try:\n",
    "                    username = a.xpath('.//span[@class=\"user-display-name\"]/text()')[0]\n",
    "                except:\n",
    "                    username = ''\n",
    "                try:\n",
    "                    text1 = a.xpath('.//div[@class=\"review-content\"]/p/text()')\n",
    "                    text2 = a.xpath(('.//div[@class=\"review-content\"]/p/br/text()'))\n",
    "                    text = ''.join(text1+text2)\n",
    "                except:\n",
    "                    text = ''\n",
    "                try:\n",
    "                    address = a.xpath('.//li[@class=\"user-location responsive-hidden-small\"]/b/text()')[0]\n",
    "                except:\n",
    "                    address = ''\n",
    "                try:\n",
    "                    src = a.xpath('.//div[@class=\"photo-box pb-60s\"]/img/@src')[0]\n",
    "                except:\n",
    "                    src = ''\n",
    "                try:\n",
    "                    star = a.xpath('.//div[@class=\"biz-rating__stars\"]/div/@title')[0]\n",
    "                    star = re.findall('([\\s\\S]*?)star rating', star)[0].strip()\n",
    "                except:\n",
    "                    star = ''\n",
    "                try:\n",
    "                    time1 = a.xpath('.//span[@class=\"rating-qualifier\"]/text()')[0].strip()\n",
    "                except:\n",
    "                    time1 = ''\n",
    "                try:\n",
    "                    friend_count = a.xpath('.//li[@class=\"friend-count responsive-small-display-inline-block\"]/b/text()')[0]\n",
    "                except:\n",
    "                    friend_count = ''\n",
    "                try:\n",
    "                    review_count = a.xpath('.//li[@class=\"review-count responsive-small-display-inline-block\"]/b/text()')[0]\n",
    "                except:\n",
    "                    review_count = ''\n",
    "                try:\n",
    "                    photo_count = a.xpath('.//li[@class=\"photo-count responsive-small-display-inline-block\"]/b/text()')[0]\n",
    "                except:\n",
    "                    photo_count = ''\n",
    "\n",
    "                new_save_obj['city'].append(city)\n",
    "                new_save_obj['r_name'].append(r_name)\n",
    "                new_save_obj['username'].append(username)\n",
    "                new_save_obj['text'].append(text)\n",
    "                new_save_obj['address'].append(address)\n",
    "                new_save_obj['src'].append(src)\n",
    "                new_save_obj['star'].append(star)\n",
    "                new_save_obj['time'].append(time1)\n",
    "                new_save_obj['friend_count'].append(friend_count)\n",
    "                new_save_obj['review_count'].append(review_count)\n",
    "                new_save_obj['photo_count'].append(photo_count)\n",
    "#                 try:\n",
    "#                     print(username,address, text,star, time1, src, friend_count, review_count, photo_count)\n",
    "#                 except:\n",
    "#                     print('打不出来')\n",
    "            df = pd.DataFrame(new_save_obj)\n",
    "            df.to_csv('不推荐评论.csv', index=False)\n",
    "        except:\n",
    "            continue\n",
    "\n",
    "\n",
    "        for i in range(1, int(page)):\n",
    "            try:\n",
    "                time.sleep(2)\n",
    "                url1 = f'https://www.yelp.com/not_recommended_reviews/{link}?not_recommended_start={10*i}'\n",
    "                print(url1)\n",
    "                r = requests.get(url=url1,headers=headers)\n",
    "                tree = etree.HTML(r.text)\n",
    "                al = tree.xpath('.//div[@class=\"ysection not-recommended-reviews review-list-wide\"]/ul[@class=\"ylist ylist-bordered reviews\"]/li')\n",
    "                print(len(al))\n",
    "                for a in al:\n",
    "                    try:\n",
    "                        username = a.xpath('.//span[@class=\"user-display-name\"]/text()')[0]\n",
    "                    except:\n",
    "                        username = ''\n",
    "                    try:\n",
    "                        text1 = a.xpath('.//div[@class=\"review-content\"]/p/text()')\n",
    "                        text2 = a.xpath(('.//div[@class=\"review-content\"]/p/br/text()'))\n",
    "                        text = ''.join(text1 + text2)\n",
    "                    except:\n",
    "                        text = ''\n",
    "                    try:\n",
    "                        address = a.xpath('.//li[@class=\"user-location responsive-hidden-small\"]/b/text()')[0]\n",
    "                    except:\n",
    "                        address = ''\n",
    "                    try:\n",
    "                        src = a.xpath('.//div[@class=\"photo-box pb-60s\"]/img/@src')[0]\n",
    "                    except:\n",
    "                        src = ''\n",
    "                    try:\n",
    "                        star = a.xpath('.//div[@class=\"biz-rating__stars\"]/div/@title')[0]\n",
    "                        star = re.findall('([\\s\\S]*?)star rating', star)[0].strip()\n",
    "                    except:\n",
    "                        star = ''\n",
    "                    try:\n",
    "                        time1 = a.xpath('.//span[@class=\"rating-qualifier\"]/text()')[0].strip()\n",
    "                    except:\n",
    "                        time1 = ''\n",
    "                    try:\n",
    "                        friend_count = a.xpath('.//li[@class=\"friend-count responsive-small-display-inline-block\"]/b/text()')[0]\n",
    "                    except:\n",
    "                        friend_count = ''\n",
    "                    try:\n",
    "                        review_count = a.xpath('.//li[@class=\"review-count responsive-small-display-inline-block\"]/b/text()')[0]\n",
    "                    except:\n",
    "                        review_count = ''\n",
    "                    try:\n",
    "                        photo_count = a.xpath('.//li[@class=\"photo-count responsive-small-display-inline-block\"]/b/text()')[0]\n",
    "                    except:\n",
    "                        photo_count = ''\n",
    "\n",
    "                    new_save_obj['city'].append(city)\n",
    "                    new_save_obj['r_name'].append(r_name)\n",
    "                    new_save_obj['username'].append(username)\n",
    "                    new_save_obj['text'].append(text)\n",
    "                    new_save_obj['address'].append(address)\n",
    "                    new_save_obj['src'].append(src)\n",
    "                    new_save_obj['star'].append(star)\n",
    "                    new_save_obj['time'].append(time1)\n",
    "                    new_save_obj['friend_count'].append(friend_count)\n",
    "                    new_save_obj['review_count'].append(review_count)\n",
    "                    new_save_obj['photo_count'].append(photo_count)\n",
    "\n",
    "#                     print(username, address, text, star, time1, src, friend_count, review_count, photo_count)\n",
    "                df = pd.DataFrame(new_save_obj)\n",
    "                df.to_csv('不推荐评论.csv', index=False)\n",
    "            except:\n",
    "                continue"
   ]
  },
  {
   "cell_type": "code",
   "execution_count": 16,
   "id": "d3e631d8",
   "metadata": {},
   "outputs": [],
   "source": [
    "non_recommend_reviews =pd.read_csv('不推荐评论.csv')"
   ]
  },
  {
   "cell_type": "code",
   "execution_count": 17,
   "id": "3247a496",
   "metadata": {},
   "outputs": [
    {
     "data": {
      "text/plain": [
       "(44386, 11)"
      ]
     },
     "execution_count": 17,
     "metadata": {},
     "output_type": "execute_result"
    }
   ],
   "source": [
    "non_recommend_reviews.shape"
   ]
  },
  {
   "cell_type": "code",
   "execution_count": 18,
   "id": "0d4befe3",
   "metadata": {},
   "outputs": [
    {
     "data": {
      "text/html": [
       "<div>\n",
       "<style scoped>\n",
       "    .dataframe tbody tr th:only-of-type {\n",
       "        vertical-align: middle;\n",
       "    }\n",
       "\n",
       "    .dataframe tbody tr th {\n",
       "        vertical-align: top;\n",
       "    }\n",
       "\n",
       "    .dataframe thead th {\n",
       "        text-align: right;\n",
       "    }\n",
       "</style>\n",
       "<table border=\"1\" class=\"dataframe\">\n",
       "  <thead>\n",
       "    <tr style=\"text-align: right;\">\n",
       "      <th></th>\n",
       "      <th>city</th>\n",
       "      <th>r_name</th>\n",
       "      <th>username</th>\n",
       "      <th>text</th>\n",
       "      <th>address</th>\n",
       "      <th>star</th>\n",
       "      <th>src</th>\n",
       "      <th>time</th>\n",
       "      <th>friend_count</th>\n",
       "      <th>review_count</th>\n",
       "      <th>photo_count</th>\n",
       "    </tr>\n",
       "  </thead>\n",
       "  <tbody>\n",
       "    <tr>\n",
       "      <th>0</th>\n",
       "      <td>Alameda</td>\n",
       "      <td>Jong Ga House</td>\n",
       "      <td>cher b.</td>\n",
       "      <td>First don't come here !!! Very bad food ...The...</td>\n",
       "      <td>Berkeley, CA</td>\n",
       "      <td>1.0</td>\n",
       "      <td>https://s3-media0.fl.yelpcdn.com/photo/rxHTvp3...</td>\n",
       "      <td>8/23/2017</td>\n",
       "      <td>29</td>\n",
       "      <td>21</td>\n",
       "      <td>NaN</td>\n",
       "    </tr>\n",
       "    <tr>\n",
       "      <th>1</th>\n",
       "      <td>Alameda</td>\n",
       "      <td>Jong Ga House</td>\n",
       "      <td>Khristy W.</td>\n",
       "      <td>This place smells bad and the service is bad. ...</td>\n",
       "      <td>Richmond, CA</td>\n",
       "      <td>1.0</td>\n",
       "      <td>https://s3-media0.fl.yelpcdn.com/photo/1BdGk-s...</td>\n",
       "      <td>2/5/2014</td>\n",
       "      <td>218</td>\n",
       "      <td>8</td>\n",
       "      <td>16.0</td>\n",
       "    </tr>\n",
       "    <tr>\n",
       "      <th>2</th>\n",
       "      <td>Alameda</td>\n",
       "      <td>Jong Ga House</td>\n",
       "      <td>Brittany T.</td>\n",
       "      <td>I came to the spot because I heard of all the ...</td>\n",
       "      <td>Oakland, CA</td>\n",
       "      <td>2.0</td>\n",
       "      <td>https://s3-media0.fl.yelpcdn.com/assets/srv0/y...</td>\n",
       "      <td>11/5/2015</td>\n",
       "      <td>0</td>\n",
       "      <td>31</td>\n",
       "      <td>NaN</td>\n",
       "    </tr>\n",
       "    <tr>\n",
       "      <th>3</th>\n",
       "      <td>Alameda</td>\n",
       "      <td>Jong Ga House</td>\n",
       "      <td>Daniel M.</td>\n",
       "      <td>Lots banchan but nothing to eat. Kimchee was t...</td>\n",
       "      <td>Lafayette, CA</td>\n",
       "      <td>2.0</td>\n",
       "      <td>https://s3-media0.fl.yelpcdn.com/photo/-ciyPmr...</td>\n",
       "      <td>3/5/2013</td>\n",
       "      <td>2</td>\n",
       "      <td>4</td>\n",
       "      <td>NaN</td>\n",
       "    </tr>\n",
       "    <tr>\n",
       "      <th>4</th>\n",
       "      <td>Alameda</td>\n",
       "      <td>Jong Ga House</td>\n",
       "      <td>Annie E.</td>\n",
       "      <td>First i want to say thanks for the delicious s...</td>\n",
       "      <td>Los Angeles, CA</td>\n",
       "      <td>3.0</td>\n",
       "      <td>https://s3-media0.fl.yelpcdn.com/photo/mNN0Icd...</td>\n",
       "      <td>8/28/2018</td>\n",
       "      <td>49</td>\n",
       "      <td>5</td>\n",
       "      <td>1.0</td>\n",
       "    </tr>\n",
       "  </tbody>\n",
       "</table>\n",
       "</div>"
      ],
      "text/plain": [
       "      city         r_name     username  \\\n",
       "0  Alameda  Jong Ga House      cher b.   \n",
       "1  Alameda  Jong Ga House   Khristy W.   \n",
       "2  Alameda  Jong Ga House  Brittany T.   \n",
       "3  Alameda  Jong Ga House    Daniel M.   \n",
       "4  Alameda  Jong Ga House     Annie E.   \n",
       "\n",
       "                                                text          address  star  \\\n",
       "0  First don't come here !!! Very bad food ...The...     Berkeley, CA   1.0   \n",
       "1  This place smells bad and the service is bad. ...     Richmond, CA   1.0   \n",
       "2  I came to the spot because I heard of all the ...      Oakland, CA   2.0   \n",
       "3  Lots banchan but nothing to eat. Kimchee was t...    Lafayette, CA   2.0   \n",
       "4  First i want to say thanks for the delicious s...  Los Angeles, CA   3.0   \n",
       "\n",
       "                                                 src       time  friend_count  \\\n",
       "0  https://s3-media0.fl.yelpcdn.com/photo/rxHTvp3...  8/23/2017            29   \n",
       "1  https://s3-media0.fl.yelpcdn.com/photo/1BdGk-s...   2/5/2014           218   \n",
       "2  https://s3-media0.fl.yelpcdn.com/assets/srv0/y...  11/5/2015             0   \n",
       "3  https://s3-media0.fl.yelpcdn.com/photo/-ciyPmr...   3/5/2013             2   \n",
       "4  https://s3-media0.fl.yelpcdn.com/photo/mNN0Icd...  8/28/2018            49   \n",
       "\n",
       "   review_count  photo_count  \n",
       "0            21          NaN  \n",
       "1             8         16.0  \n",
       "2            31          NaN  \n",
       "3             4          NaN  \n",
       "4             5          1.0  "
      ]
     },
     "metadata": {},
     "output_type": "display_data"
    }
   ],
   "source": [
    "table = non_recommend_reviews.head()\n",
    "display(table)"
   ]
  },
  {
   "cell_type": "code",
   "execution_count": 19,
   "id": "636fa539",
   "metadata": {},
   "outputs": [
    {
     "name": "stdout",
     "output_type": "stream",
     "text": [
      "The number of NaN: 29619\n"
     ]
    }
   ],
   "source": [
    "na_count = non_recommend_reviews['photo_count'].isna().sum()\n",
    "print(\"The number of NaN:\", na_count)"
   ]
  },
  {
   "cell_type": "code",
   "execution_count": 20,
   "id": "8b6be145",
   "metadata": {},
   "outputs": [],
   "source": [
    "non_recommend_reviews['photo_count'].fillna(0, inplace=True)"
   ]
  },
  {
   "cell_type": "code",
   "execution_count": 21,
   "id": "0f290deb",
   "metadata": {},
   "outputs": [
    {
     "data": {
      "text/html": [
       "<div>\n",
       "<style scoped>\n",
       "    .dataframe tbody tr th:only-of-type {\n",
       "        vertical-align: middle;\n",
       "    }\n",
       "\n",
       "    .dataframe tbody tr th {\n",
       "        vertical-align: top;\n",
       "    }\n",
       "\n",
       "    .dataframe thead th {\n",
       "        text-align: right;\n",
       "    }\n",
       "</style>\n",
       "<table border=\"1\" class=\"dataframe\">\n",
       "  <thead>\n",
       "    <tr style=\"text-align: right;\">\n",
       "      <th></th>\n",
       "      <th>star</th>\n",
       "      <th>friend_count</th>\n",
       "      <th>review_count</th>\n",
       "      <th>photo_count</th>\n",
       "    </tr>\n",
       "  </thead>\n",
       "  <tbody>\n",
       "    <tr>\n",
       "      <th>count</th>\n",
       "      <td>44386.000000</td>\n",
       "      <td>44386.000000</td>\n",
       "      <td>44386.000000</td>\n",
       "      <td>44386.000000</td>\n",
       "    </tr>\n",
       "    <tr>\n",
       "      <th>mean</th>\n",
       "      <td>4.188122</td>\n",
       "      <td>36.542919</td>\n",
       "      <td>21.212409</td>\n",
       "      <td>23.636755</td>\n",
       "    </tr>\n",
       "    <tr>\n",
       "      <th>std</th>\n",
       "      <td>1.287816</td>\n",
       "      <td>142.380529</td>\n",
       "      <td>80.494830</td>\n",
       "      <td>888.157365</td>\n",
       "    </tr>\n",
       "    <tr>\n",
       "      <th>min</th>\n",
       "      <td>1.000000</td>\n",
       "      <td>0.000000</td>\n",
       "      <td>0.000000</td>\n",
       "      <td>0.000000</td>\n",
       "    </tr>\n",
       "    <tr>\n",
       "      <th>25%</th>\n",
       "      <td>4.000000</td>\n",
       "      <td>0.000000</td>\n",
       "      <td>2.000000</td>\n",
       "      <td>0.000000</td>\n",
       "    </tr>\n",
       "    <tr>\n",
       "      <th>50%</th>\n",
       "      <td>5.000000</td>\n",
       "      <td>0.000000</td>\n",
       "      <td>5.000000</td>\n",
       "      <td>0.000000</td>\n",
       "    </tr>\n",
       "    <tr>\n",
       "      <th>75%</th>\n",
       "      <td>5.000000</td>\n",
       "      <td>10.000000</td>\n",
       "      <td>14.000000</td>\n",
       "      <td>2.000000</td>\n",
       "    </tr>\n",
       "    <tr>\n",
       "      <th>max</th>\n",
       "      <td>5.000000</td>\n",
       "      <td>4999.000000</td>\n",
       "      <td>5915.000000</td>\n",
       "      <td>113799.000000</td>\n",
       "    </tr>\n",
       "  </tbody>\n",
       "</table>\n",
       "</div>"
      ],
      "text/plain": [
       "               star  friend_count  review_count    photo_count\n",
       "count  44386.000000  44386.000000  44386.000000   44386.000000\n",
       "mean       4.188122     36.542919     21.212409      23.636755\n",
       "std        1.287816    142.380529     80.494830     888.157365\n",
       "min        1.000000      0.000000      0.000000       0.000000\n",
       "25%        4.000000      0.000000      2.000000       0.000000\n",
       "50%        5.000000      0.000000      5.000000       0.000000\n",
       "75%        5.000000     10.000000     14.000000       2.000000\n",
       "max        5.000000   4999.000000   5915.000000  113799.000000"
      ]
     },
     "metadata": {},
     "output_type": "display_data"
    }
   ],
   "source": [
    "description = non_recommend_reviews.describe()\n",
    "display(description)"
   ]
  },
  {
   "cell_type": "code",
   "execution_count": null,
   "id": "34a1d813",
   "metadata": {},
   "outputs": [],
   "source": []
  }
 ],
 "metadata": {
  "kernelspec": {
   "display_name": "Python 3 (ipykernel)",
   "language": "python",
   "name": "python3"
  },
  "language_info": {
   "codemirror_mode": {
    "name": "ipython",
    "version": 3
   },
   "file_extension": ".py",
   "mimetype": "text/x-python",
   "name": "python",
   "nbconvert_exporter": "python",
   "pygments_lexer": "ipython3",
   "version": "3.10.10"
  }
 },
 "nbformat": 4,
 "nbformat_minor": 5
}
