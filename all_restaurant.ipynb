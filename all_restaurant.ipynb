{
 "cells": [
  {
   "cell_type": "code",
   "execution_count": 1,
   "id": "3a7b4976",
   "metadata": {},
   "outputs": [],
   "source": [
    "import csv\n",
    "import time\n",
    "import random\n",
    "import requests\n",
    "from lxml import etree\n",
    "import pandas as pd\n",
    "import numpy as np"
   ]
  },
  {
   "cell_type": "code",
   "execution_count": 2,
   "id": "79f83f74",
   "metadata": {},
   "outputs": [
    {
     "data": {
      "text/html": [
       "<div>\n",
       "<style scoped>\n",
       "    .dataframe tbody tr th:only-of-type {\n",
       "        vertical-align: middle;\n",
       "    }\n",
       "\n",
       "    .dataframe tbody tr th {\n",
       "        vertical-align: top;\n",
       "    }\n",
       "\n",
       "    .dataframe thead th {\n",
       "        text-align: right;\n",
       "    }\n",
       "</style>\n",
       "<table border=\"1\" class=\"dataframe\">\n",
       "  <thead>\n",
       "    <tr style=\"text-align: right;\">\n",
       "      <th></th>\n",
       "      <th>url</th>\n",
       "      <th>name</th>\n",
       "    </tr>\n",
       "  </thead>\n",
       "  <tbody>\n",
       "    <tr>\n",
       "      <th>0</th>\n",
       "      <td>/phoenix</td>\n",
       "      <td>Phoenix</td>\n",
       "    </tr>\n",
       "    <tr>\n",
       "      <th>1</th>\n",
       "      <td>/scottsdale-az-us</td>\n",
       "      <td>Scottsdale</td>\n",
       "    </tr>\n",
       "    <tr>\n",
       "      <th>2</th>\n",
       "      <td>/tempe-az-us</td>\n",
       "      <td>Tempe</td>\n",
       "    </tr>\n",
       "    <tr>\n",
       "      <th>3</th>\n",
       "      <td>/tucson-az-us</td>\n",
       "      <td>Tucson</td>\n",
       "    </tr>\n",
       "    <tr>\n",
       "      <th>4</th>\n",
       "      <td>/alameda-ca-us</td>\n",
       "      <td>Alameda</td>\n",
       "    </tr>\n",
       "  </tbody>\n",
       "</table>\n",
       "</div>"
      ],
      "text/plain": [
       "                 url        name\n",
       "0           /phoenix     Phoenix\n",
       "1  /scottsdale-az-us  Scottsdale\n",
       "2       /tempe-az-us       Tempe\n",
       "3      /tucson-az-us      Tucson\n",
       "4     /alameda-ca-us     Alameda"
      ]
     },
     "metadata": {},
     "output_type": "display_data"
    }
   ],
   "source": [
    "city = pd.read_csv('city_links.csv')\n",
    "table = city.head()\n",
    "display(table)"
   ]
  },
  {
   "cell_type": "code",
   "execution_count": 3,
   "id": "0fed8ecd",
   "metadata": {},
   "outputs": [
    {
     "data": {
      "text/plain": [
       "(157, 2)"
      ]
     },
     "execution_count": 3,
     "metadata": {},
     "output_type": "execute_result"
    }
   ],
   "source": [
    "city.shape"
   ]
  },
  {
   "cell_type": "markdown",
   "id": "301ae48e",
   "metadata": {},
   "source": [
    "# all restaurants"
   ]
  },
  {
   "cell_type": "raw",
   "id": "8ab35ea5",
   "metadata": {},
   "source": [
    "new_save_obj = {\n",
    "    'city': [],\n",
    "    'title': [],\n",
    "    'rank': [],\n",
    "    'point': [],\n",
    "    'tag': [],\n",
    "    'link': [],\n",
    "    'review': [],\n",
    "}"
   ]
  },
  {
   "cell_type": "code",
   "execution_count": null,
   "id": "a6cf4e4c",
   "metadata": {},
   "outputs": [],
   "source": [
    "with open('city_links.csv', 'r') as f:\n",
    "    reader = csv.reader(f)\n",
    "    for row in reader:\n",
    "        city_url = row[0].replace('/', '').replace('-', ',').title()\n",
    "        print(city_url)\n",
    "\n",
    "        for i in range(0, 1000):\n",
    "            url = f'https://www.yelp.com/search?cflt=restaurants&find_loc={city_url}&start={i*10}'\n",
    "            print(url)\n",
    "\n",
    "            headers = {\n",
    "                'Cookie': 'bse=aaf54a8504e5459ca9054b9b9f4710a5; hl=en_US; wdi=2|D2EB2C37FE7743B2|0x1.93bd4df9d0fdp+30|620d088025fbf980; g_state={\"i_p\":1694152357210,\"i_l\":3}; recentlocations=Napa%2C+CA%2C+US%3B%3BNapa%2C+CA%3B%3BScottsdale%2C+AZ%2C+US%3B%3Bscottsdale-az-us%3B%3BScottsdale%2C+AZ%3B%3BPhoenix%3B%3BPhoenix%2C%3B%3BPhoenix%2C+AZ; location=%7B%22parent_id%22%3A+45%2C+%22address2%22%3A+%22%22%2C+%22longitude%22%3A+-111.92734753081055%2C+%22unformatted%22%3A+%22Scottsdale%2CAz%2CUs%22%2C+%22country%22%3A+%22US%22%2C+%22state%22%3A+%22AZ%22%2C+%22min_longitude%22%3A+-111.96138300000001%2C+%22county%22%3A+%22Maricopa+County%22%2C+%22city%22%3A+%22Scottsdale%22%2C+%22zip%22%3A+%22%22%2C+%22max_longitude%22%3A+-111.78791197617181%2C+%22accuracy%22%3A+4%2C+%22address1%22%3A+%22%22%2C+%22provenance%22%3A+%22YELP_GEOCODING_ENGINE%22%2C+%22display%22%3A+%22Scottsdale%2C+AZ%22%2C+%22location_type%22%3A+%22locality%22%2C+%22max_latitude%22%3A+33.85662465458778%2C+%22latitude%22%3A+33.499404636990256%2C+%22min_latitude%22%3A+33.45888641584279%2C+%22place_id%22%3A+%221356%22%2C+%22address3%22%3A+%22%22%2C+%22borough%22%3A+%22%22%2C+%22isGoogleHood%22%3A+false%2C+%22language%22%3A+null%2C+%22neighborhood%22%3A+%22%22%2C+%22polygons%22%3A+null%2C+%22usingDefaultZip%22%3A+false%2C+%22confident%22%3A+null%7D; uuac=jtodetbQyzuhlENNTvh6ld1FwqP6O_njNJ916PV9xdc; xcj=1|LR1m4NN489ePVwxYRdE6k7vAMkOHh_Hvr4HEdZLeH-Y; bsi=1%7C77f9fac6-e60b-4ef2-a19f-d2f6b594c040%7C1693617740192%7C1693617737929; OptanonConsent=isGpcEnabled=0&datestamp=Sat+Sep+02+2023+09%3A22%3A22+GMT%2B0800+(China+Standard+Time)&version=202304.1.0&browserGpcFlag=0&isIABGlobal=false&hosts=&consentId=afe311b8-5df9-43aa-b8d6-20ac10139aee&interactionCount=1&landingPath=https%3A%2F%2Fwww.yelp.com%2Fsearch%3Ffind_desc%3DRestaurants%26find_loc%3DPhoenix%26start%3D10&groups=BG82%3A1%2CC0003%3A1%2CC0002%3A1%2CC0001%3A1%2CC0004%3A1',\n",
    "                'User-Agent': 'Mozilla/5.0 (Windows NT 10.0; Win64; x64) AppleWebKit/537.36 (KHTML, like Gecko) Chrome/116.0.0.0 Safari/537.36 Edg/116.0.1938.62'\n",
    "            }\n",
    "            r = requests.get(url=url, headers=headers)\n",
    "            tree = etree.HTML(r.text)\n",
    "            al = tree.xpath('//li[@class=\"  border-color--default__09f24__NPAKY\"]')\n",
    "            print(len(al))\n",
    "\n",
    "            if len(al) < 1:\n",
    "                # print(r.text)\n",
    "                # time.sleep(200)\n",
    "                # r = requests.get(url=url, headers=headers)\n",
    "                # tree = etree.HTML(r.text)\n",
    "                # al = tree.xpath('//li[@class=\"  border-color--default__09f24__NPAKY\"]')\n",
    "                # print(len(al))\n",
    "                # if len(al) < 1:\n",
    "                print('下一餐厅')\n",
    "                break\n",
    "            for a in al:\n",
    "                try:\n",
    "                    title = a.xpath('.//h3[@class=\"css-1agk4wl\"]/span[@class=\" css-1egxyvc\"]/a[@class=\"css-19v1rkv\"]/text()')[0].strip()\n",
    "                except:\n",
    "                    title = ''\n",
    "                try:\n",
    "                    point = a.xpath('.//span[@class=\" css-gutk1c\"]/text()')[0].strip()\n",
    "                except:\n",
    "                    point = ''\n",
    "                try:\n",
    "                    tag = a.xpath('.//span[@class=\"css-11bijt4\"]/text()')\n",
    "                except:\n",
    "                    tag = []\n",
    "                try:\n",
    "                    link = a.xpath('.//h3[@class=\"css-1agk4wl\"]/span[@class=\" css-1egxyvc\"]/a[@class=\"css-19v1rkv\"]/@href')[0].strip()\n",
    "                except:\n",
    "                    link = ''\n",
    "                try:\n",
    "                    review = a.xpath('.//span[@class=\"css-8xcil9\"]/text()')[0].strip()\n",
    "                except:\n",
    "                    review = ''\n",
    "                try:\n",
    "                    rank = a.xpath('.//h3[@class=\"css-1agk4wl\"]/span[@class=\" css-1egxyvc\"]/text()')[0].strip()\n",
    "                except:\n",
    "                    rank = ''\n",
    "                if rank != '':\n",
    "                    new_save_obj['city'].append(row[1])\n",
    "                    new_save_obj['title'].append(title)\n",
    "                    new_save_obj['point'].append(point)\n",
    "                    new_save_obj['tag'].append(tag)\n",
    "                    new_save_obj['link'].append(link)\n",
    "                    new_save_obj['review'].append(review)\n",
    "                    new_save_obj['rank'].append(rank)\n",
    "                    print(rank, title, point, tag, review, 'https://www.yelp.com' + link)\n",
    "\n",
    "            time.sleep(5)\n",
    "\n",
    "            df = pd.DataFrame(new_save_obj)\n",
    "            df.to_csv('没有抽样的餐厅.csv', index=False)"
   ]
  },
  {
   "cell_type": "code",
   "execution_count": 2,
   "id": "2683e752",
   "metadata": {},
   "outputs": [],
   "source": [
    "all_restaurant = pd.read_csv('没有抽样的餐厅.csv')"
   ]
  },
  {
   "cell_type": "code",
   "execution_count": 3,
   "id": "ca927953",
   "metadata": {},
   "outputs": [
    {
     "data": {
      "text/plain": [
       "(35448, 7)"
      ]
     },
     "execution_count": 3,
     "metadata": {},
     "output_type": "execute_result"
    }
   ],
   "source": [
    "all_restaurant.shape"
   ]
  },
  {
   "cell_type": "code",
   "execution_count": 4,
   "id": "95acd287",
   "metadata": {},
   "outputs": [
    {
     "data": {
      "text/html": [
       "<div>\n",
       "<style scoped>\n",
       "    .dataframe tbody tr th:only-of-type {\n",
       "        vertical-align: middle;\n",
       "    }\n",
       "\n",
       "    .dataframe tbody tr th {\n",
       "        vertical-align: top;\n",
       "    }\n",
       "\n",
       "    .dataframe thead th {\n",
       "        text-align: right;\n",
       "    }\n",
       "</style>\n",
       "<table border=\"1\" class=\"dataframe\">\n",
       "  <thead>\n",
       "    <tr style=\"text-align: right;\">\n",
       "      <th></th>\n",
       "      <th>city</th>\n",
       "      <th>title</th>\n",
       "      <th>rank</th>\n",
       "      <th>point</th>\n",
       "      <th>tag</th>\n",
       "      <th>link</th>\n",
       "      <th>review</th>\n",
       "    </tr>\n",
       "  </thead>\n",
       "  <tbody>\n",
       "    <tr>\n",
       "      <th>0</th>\n",
       "      <td>Phoenix</td>\n",
       "      <td>Aftermath</td>\n",
       "      <td>1</td>\n",
       "      <td>4.5</td>\n",
       "      <td>['American (New)', 'Cocktail Bars', 'Burgers']</td>\n",
       "      <td>/biz/aftermath-phoenix-6</td>\n",
       "      <td>(238 reviews)</td>\n",
       "    </tr>\n",
       "    <tr>\n",
       "      <th>1</th>\n",
       "      <td>Phoenix</td>\n",
       "      <td>Oak</td>\n",
       "      <td>2</td>\n",
       "      <td>3.8</td>\n",
       "      <td>['American (New)']</td>\n",
       "      <td>/biz/oak-phoenix-3</td>\n",
       "      <td>(2.1k reviews)</td>\n",
       "    </tr>\n",
       "    <tr>\n",
       "      <th>2</th>\n",
       "      <td>Phoenix</td>\n",
       "      <td>Neighborly Public House</td>\n",
       "      <td>3</td>\n",
       "      <td>4.3</td>\n",
       "      <td>['American (New)']</td>\n",
       "      <td>/biz/neighborly-public-house-phoenix</td>\n",
       "      <td>(172 reviews)</td>\n",
       "    </tr>\n",
       "    <tr>\n",
       "      <th>3</th>\n",
       "      <td>Phoenix</td>\n",
       "      <td>Windsor</td>\n",
       "      <td>4</td>\n",
       "      <td>4.3</td>\n",
       "      <td>['American (New)', 'Breakfast &amp; Brunch', 'Cock...</td>\n",
       "      <td>/biz/windsor-phoenix</td>\n",
       "      <td>(1.7k reviews)</td>\n",
       "    </tr>\n",
       "    <tr>\n",
       "      <th>4</th>\n",
       "      <td>Phoenix</td>\n",
       "      <td>Pubblico Italian Eatery</td>\n",
       "      <td>5</td>\n",
       "      <td>4.4</td>\n",
       "      <td>['Italian', 'Bars', 'Pizza']</td>\n",
       "      <td>/biz/pubblico-italian-eatery-phoenix-3</td>\n",
       "      <td>(526 reviews)</td>\n",
       "    </tr>\n",
       "  </tbody>\n",
       "</table>\n",
       "</div>"
      ],
      "text/plain": [
       "      city                    title  rank  point  \\\n",
       "0  Phoenix                Aftermath     1    4.5   \n",
       "1  Phoenix                      Oak     2    3.8   \n",
       "2  Phoenix  Neighborly Public House     3    4.3   \n",
       "3  Phoenix                  Windsor     4    4.3   \n",
       "4  Phoenix  Pubblico Italian Eatery     5    4.4   \n",
       "\n",
       "                                                 tag  \\\n",
       "0     ['American (New)', 'Cocktail Bars', 'Burgers']   \n",
       "1                                 ['American (New)']   \n",
       "2                                 ['American (New)']   \n",
       "3  ['American (New)', 'Breakfast & Brunch', 'Cock...   \n",
       "4                       ['Italian', 'Bars', 'Pizza']   \n",
       "\n",
       "                                     link          review  \n",
       "0                /biz/aftermath-phoenix-6   (238 reviews)  \n",
       "1                      /biz/oak-phoenix-3  (2.1k reviews)  \n",
       "2    /biz/neighborly-public-house-phoenix   (172 reviews)  \n",
       "3                    /biz/windsor-phoenix  (1.7k reviews)  \n",
       "4  /biz/pubblico-italian-eatery-phoenix-3   (526 reviews)  "
      ]
     },
     "metadata": {},
     "output_type": "display_data"
    }
   ],
   "source": [
    "table = all_restaurant.head()\n",
    "display(table)"
   ]
  },
  {
   "cell_type": "markdown",
   "id": "aed79204",
   "metadata": {},
   "source": [
    "# 变量category删除"
   ]
  },
  {
   "cell_type": "code",
   "execution_count": 5,
   "id": "dc9e9d64",
   "metadata": {},
   "outputs": [],
   "source": [
    "all_restaurant.drop(columns=['tag'], inplace=True)"
   ]
  },
  {
   "cell_type": "raw",
   "id": "2b1f49aa",
   "metadata": {},
   "source": [
    "all_restaurant['tag'] = all_restaurant['tag'].apply(eval)"
   ]
  },
  {
   "cell_type": "raw",
   "id": "30035d0e",
   "metadata": {},
   "source": [
    "all_restaurant[['category1', 'category2', 'category3', 'category4']] = all_restaurant['tag'].apply(pd.Series)"
   ]
  },
  {
   "cell_type": "raw",
   "id": "e9bdb653",
   "metadata": {},
   "source": [
    "all_restaurant.drop(columns=['tag'], inplace=True)"
   ]
  },
  {
   "cell_type": "raw",
   "id": "87809c1e",
   "metadata": {},
   "source": [
    "table = all_restaurant.head()\n",
    "display(table)"
   ]
  },
  {
   "cell_type": "raw",
   "id": "6fdfea5c",
   "metadata": {},
   "source": [
    "categories = ['category1', 'category2', 'category3', 'category4']\n",
    "for category in categories:\n",
    "    all_restaurant['competition_' + category] = all_restaurant.groupby(['city', category])['title'].transform('count')"
   ]
  },
  {
   "cell_type": "raw",
   "id": "bbefc8cb",
   "metadata": {},
   "source": [
    "all_restaurant['competition'] = all_restaurant[['competition_' + category for category in categories]].sum(axis=1)"
   ]
  },
  {
   "cell_type": "raw",
   "id": "0d3ca135",
   "metadata": {},
   "source": [
    "all_restaurant.drop(columns=['category1', 'category2', 'category3', 'category4','competition_category1','competition_category2','competition_category3','competition_category4'], inplace=True)"
   ]
  },
  {
   "cell_type": "markdown",
   "id": "9cbfba4f",
   "metadata": {},
   "source": [
    "# rank ~ number of restaurant"
   ]
  },
  {
   "cell_type": "code",
   "execution_count": null,
   "id": "4919d5a8",
   "metadata": {},
   "outputs": [],
   "source": [
    "all_restaurant['city_restaurant_no'] = all_restaurant.groupby('city')['rank'].transform('count')"
   ]
  },
  {
   "cell_type": "raw",
   "id": "d0f422d3",
   "metadata": {},
   "source": [
    "all_restaurant.drop(columns=['rank'], inplace=True)"
   ]
  },
  {
   "cell_type": "markdown",
   "id": "3ae24290",
   "metadata": {},
   "source": [
    "# competition_rate"
   ]
  },
  {
   "cell_type": "raw",
   "id": "d1b2e1cf",
   "metadata": {},
   "source": [
    "all_restaurant['competition_rate'] = all_restaurant['competition'] / all_restaurant['city_restaurant_no']"
   ]
  },
  {
   "cell_type": "markdown",
   "id": "cfee3e77",
   "metadata": {},
   "source": [
    "# chain"
   ]
  },
  {
   "cell_type": "markdown",
   "id": "b5dd87b7",
   "metadata": {},
   "source": [
    "all_restaurant['chain'] = all_restaurant['title'].duplicated(keep=False).astype(int)"
   ]
  },
  {
   "cell_type": "markdown",
   "id": "64035e56",
   "metadata": {},
   "source": [
    "table = all_restaurant.head(10)\n",
    "display(table)"
   ]
  },
  {
   "cell_type": "markdown",
   "id": "066368ba",
   "metadata": {},
   "source": [
    "# 전처리 review"
   ]
  },
  {
   "cell_type": "code",
   "execution_count": 7,
   "id": "d1360b78",
   "metadata": {},
   "outputs": [],
   "source": [
    "all_restaurant['review'] = all_restaurant['review'].str.replace(r'\\(|\\)', '', regex=True)\n",
    "all_restaurant['review'] = all_restaurant['review'].str.rsplit(' ', n=1).str[0]\n",
    "all_restaurant['review_n'] = pd.to_numeric(all_restaurant['review'], errors='coerce')\n",
    "all_restaurant['review_k'] = all_restaurant['review'].where(all_restaurant['review'].str.contains('k'), None)\n",
    "all_restaurant['review_k']= all_restaurant['review_k'].str.replace('k', '').astype(float) * 1000\n",
    "all_restaurant['review_n'].fillna(all_restaurant['review_k'], inplace=True)\n",
    "all_restaurant.drop(columns=['review_k','review'], inplace=True)"
   ]
  },
  {
   "cell_type": "markdown",
   "id": "fc3febcc",
   "metadata": {},
   "source": [
    "# 전처리'title'"
   ]
  },
  {
   "cell_type": "code",
   "execution_count": 8,
   "id": "d0bab0f9",
   "metadata": {},
   "outputs": [],
   "source": [
    "import re\n",
    "import html\n",
    "\n",
    "def remove_non_ascii(text):\n",
    "    # 先解码 HTML 实体编码，然后再去除非 ASCII 字符\n",
    "    text = html.unescape(str(text))\n",
    "    return re.sub(r'[^\\x00-\\x7F]+', '', text)\n",
    "\n",
    "# 在应用函数之前，确保 'text' 列中的所有值都是字符串\n",
    "all_restaurant['title'] = all_restaurant['title'].apply(remove_non_ascii)"
   ]
  },
  {
   "cell_type": "code",
   "execution_count": 11,
   "id": "4930a22d",
   "metadata": {},
   "outputs": [
    {
     "data": {
      "text/html": [
       "<div>\n",
       "<style scoped>\n",
       "    .dataframe tbody tr th:only-of-type {\n",
       "        vertical-align: middle;\n",
       "    }\n",
       "\n",
       "    .dataframe tbody tr th {\n",
       "        vertical-align: top;\n",
       "    }\n",
       "\n",
       "    .dataframe thead th {\n",
       "        text-align: right;\n",
       "    }\n",
       "</style>\n",
       "<table border=\"1\" class=\"dataframe\">\n",
       "  <thead>\n",
       "    <tr style=\"text-align: right;\">\n",
       "      <th></th>\n",
       "      <th>city</th>\n",
       "      <th>title</th>\n",
       "      <th>rank</th>\n",
       "      <th>point</th>\n",
       "      <th>link</th>\n",
       "      <th>review_n</th>\n",
       "    </tr>\n",
       "  </thead>\n",
       "  <tbody>\n",
       "    <tr>\n",
       "      <th>0</th>\n",
       "      <td>Phoenix</td>\n",
       "      <td>Aftermath</td>\n",
       "      <td>1</td>\n",
       "      <td>4.5</td>\n",
       "      <td>/biz/aftermath-phoenix-6</td>\n",
       "      <td>238.0</td>\n",
       "    </tr>\n",
       "    <tr>\n",
       "      <th>1</th>\n",
       "      <td>Phoenix</td>\n",
       "      <td>Oak</td>\n",
       "      <td>2</td>\n",
       "      <td>3.8</td>\n",
       "      <td>/biz/oak-phoenix-3</td>\n",
       "      <td>2100.0</td>\n",
       "    </tr>\n",
       "    <tr>\n",
       "      <th>2</th>\n",
       "      <td>Phoenix</td>\n",
       "      <td>Neighborly Public House</td>\n",
       "      <td>3</td>\n",
       "      <td>4.3</td>\n",
       "      <td>/biz/neighborly-public-house-phoenix</td>\n",
       "      <td>172.0</td>\n",
       "    </tr>\n",
       "    <tr>\n",
       "      <th>3</th>\n",
       "      <td>Phoenix</td>\n",
       "      <td>Windsor</td>\n",
       "      <td>4</td>\n",
       "      <td>4.3</td>\n",
       "      <td>/biz/windsor-phoenix</td>\n",
       "      <td>1700.0</td>\n",
       "    </tr>\n",
       "    <tr>\n",
       "      <th>4</th>\n",
       "      <td>Phoenix</td>\n",
       "      <td>Pubblico Italian Eatery</td>\n",
       "      <td>5</td>\n",
       "      <td>4.4</td>\n",
       "      <td>/biz/pubblico-italian-eatery-phoenix-3</td>\n",
       "      <td>526.0</td>\n",
       "    </tr>\n",
       "  </tbody>\n",
       "</table>\n",
       "</div>"
      ],
      "text/plain": [
       "      city                    title  rank  point  \\\n",
       "0  Phoenix                Aftermath     1    4.5   \n",
       "1  Phoenix                      Oak     2    3.8   \n",
       "2  Phoenix  Neighborly Public House     3    4.3   \n",
       "3  Phoenix                  Windsor     4    4.3   \n",
       "4  Phoenix  Pubblico Italian Eatery     5    4.4   \n",
       "\n",
       "                                     link  review_n  \n",
       "0                /biz/aftermath-phoenix-6     238.0  \n",
       "1                      /biz/oak-phoenix-3    2100.0  \n",
       "2    /biz/neighborly-public-house-phoenix     172.0  \n",
       "3                    /biz/windsor-phoenix    1700.0  \n",
       "4  /biz/pubblico-italian-eatery-phoenix-3     526.0  "
      ]
     },
     "metadata": {},
     "output_type": "display_data"
    }
   ],
   "source": [
    "table = all_restaurant.head()\n",
    "display(table)"
   ]
  },
  {
   "cell_type": "code",
   "execution_count": 12,
   "id": "9690c198",
   "metadata": {},
   "outputs": [
    {
     "data": {
      "text/html": [
       "<div>\n",
       "<style scoped>\n",
       "    .dataframe tbody tr th:only-of-type {\n",
       "        vertical-align: middle;\n",
       "    }\n",
       "\n",
       "    .dataframe tbody tr th {\n",
       "        vertical-align: top;\n",
       "    }\n",
       "\n",
       "    .dataframe thead th {\n",
       "        text-align: right;\n",
       "    }\n",
       "</style>\n",
       "<table border=\"1\" class=\"dataframe\">\n",
       "  <thead>\n",
       "    <tr style=\"text-align: right;\">\n",
       "      <th></th>\n",
       "      <th>rank</th>\n",
       "      <th>point</th>\n",
       "      <th>review_n</th>\n",
       "    </tr>\n",
       "  </thead>\n",
       "  <tbody>\n",
       "    <tr>\n",
       "      <th>count</th>\n",
       "      <td>35448.000000</td>\n",
       "      <td>35261.000000</td>\n",
       "      <td>34984.000000</td>\n",
       "    </tr>\n",
       "    <tr>\n",
       "      <th>mean</th>\n",
       "      <td>118.300891</td>\n",
       "      <td>4.166226</td>\n",
       "      <td>495.730191</td>\n",
       "    </tr>\n",
       "    <tr>\n",
       "      <th>std</th>\n",
       "      <td>69.321271</td>\n",
       "      <td>0.458955</td>\n",
       "      <td>820.172253</td>\n",
       "    </tr>\n",
       "    <tr>\n",
       "      <th>min</th>\n",
       "      <td>1.000000</td>\n",
       "      <td>1.000000</td>\n",
       "      <td>1.000000</td>\n",
       "    </tr>\n",
       "    <tr>\n",
       "      <th>25%</th>\n",
       "      <td>58.000000</td>\n",
       "      <td>3.900000</td>\n",
       "      <td>66.000000</td>\n",
       "    </tr>\n",
       "    <tr>\n",
       "      <th>50%</th>\n",
       "      <td>117.000000</td>\n",
       "      <td>4.200000</td>\n",
       "      <td>223.000000</td>\n",
       "    </tr>\n",
       "    <tr>\n",
       "      <th>75%</th>\n",
       "      <td>178.000000</td>\n",
       "      <td>4.500000</td>\n",
       "      <td>574.000000</td>\n",
       "    </tr>\n",
       "    <tr>\n",
       "      <th>max</th>\n",
       "      <td>240.000000</td>\n",
       "      <td>5.000000</td>\n",
       "      <td>18400.000000</td>\n",
       "    </tr>\n",
       "  </tbody>\n",
       "</table>\n",
       "</div>"
      ],
      "text/plain": [
       "               rank         point      review_n\n",
       "count  35448.000000  35261.000000  34984.000000\n",
       "mean     118.300891      4.166226    495.730191\n",
       "std       69.321271      0.458955    820.172253\n",
       "min        1.000000      1.000000      1.000000\n",
       "25%       58.000000      3.900000     66.000000\n",
       "50%      117.000000      4.200000    223.000000\n",
       "75%      178.000000      4.500000    574.000000\n",
       "max      240.000000      5.000000  18400.000000"
      ]
     },
     "metadata": {},
     "output_type": "display_data"
    }
   ],
   "source": [
    "description = all_restaurant.describe()\n",
    "display(description)"
   ]
  },
  {
   "cell_type": "markdown",
   "id": "6206ab21",
   "metadata": {},
   "source": [
    "# 筛选出餐厅数为240的餐厅"
   ]
  },
  {
   "cell_type": "code",
   "execution_count": 9,
   "id": "9957942a",
   "metadata": {},
   "outputs": [],
   "source": [
    "sample1_restaurant = all_restaurant[all_restaurant['city_restaurant_no'] == 240]"
   ]
  },
  {
   "cell_type": "code",
   "execution_count": 10,
   "id": "da241f7a",
   "metadata": {},
   "outputs": [
    {
     "data": {
      "text/plain": [
       "(29520, 7)"
      ]
     },
     "execution_count": 10,
     "metadata": {},
     "output_type": "execute_result"
    }
   ],
   "source": [
    "sample1_restaurant.shape"
   ]
  },
  {
   "cell_type": "markdown",
   "id": "a9bfe254",
   "metadata": {},
   "source": [
    "# sample city"
   ]
  },
  {
   "cell_type": "code",
   "execution_count": 11,
   "id": "93fa0c2c",
   "metadata": {},
   "outputs": [],
   "source": [
    "import pandas as pd\n",
    "import random\n",
    "\n",
    "# 假设您的数据集是一个名为'df'的pandas DataFrame，包含'city'和'title'列\n",
    "# 获取所有唯一的城市名称\n",
    "unique_cities = sample1_restaurant['city'].unique()\n",
    "\n",
    "# 随机选择50个城市\n",
    "random.seed(42)\n",
    "selected_cities = random.sample(list(unique_cities), 50)\n",
    "\n",
    "# 使用选择的城市名称来过滤数据集\n",
    "filtered_df = sample1_restaurant[sample1_restaurant['city'].isin(selected_cities)]"
   ]
  },
  {
   "cell_type": "code",
   "execution_count": 12,
   "id": "41e41c45",
   "metadata": {},
   "outputs": [
    {
     "data": {
      "text/plain": [
       "(12000, 7)"
      ]
     },
     "execution_count": 12,
     "metadata": {},
     "output_type": "execute_result"
    }
   ],
   "source": [
    "filtered_df.shape"
   ]
  },
  {
   "cell_type": "markdown",
   "id": "e18010e2",
   "metadata": {},
   "source": [
    "# sample restaurant"
   ]
  },
  {
   "cell_type": "code",
   "execution_count": 13,
   "id": "cc37e72a",
   "metadata": {},
   "outputs": [
    {
     "name": "stderr",
     "output_type": "stream",
     "text": [
      "C:\\Users\\10047\\AppData\\Local\\Temp\\ipykernel_688\\36937603.py:1: SettingWithCopyWarning: \n",
      "A value is trying to be set on a copy of a slice from a DataFrame.\n",
      "Try using .loc[row_indexer,col_indexer] = value instead\n",
      "\n",
      "See the caveats in the documentation: https://pandas.pydata.org/pandas-docs/stable/user_guide/indexing.html#returning-a-view-versus-a-copy\n",
      "  filtered_df['rank_review'] = filtered_df.groupby('city')['review_n'].rank(method='first', ascending=False)\n"
     ]
    }
   ],
   "source": [
    "filtered_df['rank_review'] = filtered_df.groupby('city')['review_n'].rank(method='first', ascending=False)"
   ]
  },
  {
   "cell_type": "code",
   "execution_count": 14,
   "id": "f4d64654",
   "metadata": {},
   "outputs": [
    {
     "data": {
      "text/html": [
       "<div>\n",
       "<style scoped>\n",
       "    .dataframe tbody tr th:only-of-type {\n",
       "        vertical-align: middle;\n",
       "    }\n",
       "\n",
       "    .dataframe tbody tr th {\n",
       "        vertical-align: top;\n",
       "    }\n",
       "\n",
       "    .dataframe thead th {\n",
       "        text-align: right;\n",
       "    }\n",
       "</style>\n",
       "<table border=\"1\" class=\"dataframe\">\n",
       "  <thead>\n",
       "    <tr style=\"text-align: right;\">\n",
       "      <th></th>\n",
       "      <th>city</th>\n",
       "      <th>title</th>\n",
       "      <th>rank</th>\n",
       "      <th>point</th>\n",
       "      <th>link</th>\n",
       "      <th>city_restaurant_no</th>\n",
       "      <th>review_n</th>\n",
       "      <th>rank_review</th>\n",
       "    </tr>\n",
       "  </thead>\n",
       "  <tbody>\n",
       "    <tr>\n",
       "      <th>0</th>\n",
       "      <td>Phoenix</td>\n",
       "      <td>Aftermath</td>\n",
       "      <td>1</td>\n",
       "      <td>4.5</td>\n",
       "      <td>/biz/aftermath-phoenix-6</td>\n",
       "      <td>240</td>\n",
       "      <td>238.0</td>\n",
       "      <td>136.0</td>\n",
       "    </tr>\n",
       "    <tr>\n",
       "      <th>1</th>\n",
       "      <td>Phoenix</td>\n",
       "      <td>Oak</td>\n",
       "      <td>2</td>\n",
       "      <td>3.8</td>\n",
       "      <td>/biz/oak-phoenix-3</td>\n",
       "      <td>240</td>\n",
       "      <td>2100.0</td>\n",
       "      <td>13.0</td>\n",
       "    </tr>\n",
       "    <tr>\n",
       "      <th>2</th>\n",
       "      <td>Phoenix</td>\n",
       "      <td>Neighborly Public House</td>\n",
       "      <td>3</td>\n",
       "      <td>4.3</td>\n",
       "      <td>/biz/neighborly-public-house-phoenix</td>\n",
       "      <td>240</td>\n",
       "      <td>172.0</td>\n",
       "      <td>158.0</td>\n",
       "    </tr>\n",
       "    <tr>\n",
       "      <th>3</th>\n",
       "      <td>Phoenix</td>\n",
       "      <td>Windsor</td>\n",
       "      <td>4</td>\n",
       "      <td>4.3</td>\n",
       "      <td>/biz/windsor-phoenix</td>\n",
       "      <td>240</td>\n",
       "      <td>1700.0</td>\n",
       "      <td>22.0</td>\n",
       "    </tr>\n",
       "    <tr>\n",
       "      <th>4</th>\n",
       "      <td>Phoenix</td>\n",
       "      <td>Pubblico Italian Eatery</td>\n",
       "      <td>5</td>\n",
       "      <td>4.4</td>\n",
       "      <td>/biz/pubblico-italian-eatery-phoenix-3</td>\n",
       "      <td>240</td>\n",
       "      <td>526.0</td>\n",
       "      <td>95.0</td>\n",
       "    </tr>\n",
       "  </tbody>\n",
       "</table>\n",
       "</div>"
      ],
      "text/plain": [
       "      city                    title  rank  point  \\\n",
       "0  Phoenix                Aftermath     1    4.5   \n",
       "1  Phoenix                      Oak     2    3.8   \n",
       "2  Phoenix  Neighborly Public House     3    4.3   \n",
       "3  Phoenix                  Windsor     4    4.3   \n",
       "4  Phoenix  Pubblico Italian Eatery     5    4.4   \n",
       "\n",
       "                                     link  city_restaurant_no  review_n  \\\n",
       "0                /biz/aftermath-phoenix-6                 240     238.0   \n",
       "1                      /biz/oak-phoenix-3                 240    2100.0   \n",
       "2    /biz/neighborly-public-house-phoenix                 240     172.0   \n",
       "3                    /biz/windsor-phoenix                 240    1700.0   \n",
       "4  /biz/pubblico-italian-eatery-phoenix-3                 240     526.0   \n",
       "\n",
       "   rank_review  \n",
       "0        136.0  \n",
       "1         13.0  \n",
       "2        158.0  \n",
       "3         22.0  \n",
       "4         95.0  "
      ]
     },
     "metadata": {},
     "output_type": "display_data"
    }
   ],
   "source": [
    "table = filtered_df.head()\n",
    "display(table)"
   ]
  },
  {
   "cell_type": "code",
   "execution_count": 16,
   "id": "dc33bcbe",
   "metadata": {},
   "outputs": [
    {
     "data": {
      "text/plain": [
       "136.0    50\n",
       "199.0    50\n",
       "58.0     50\n",
       "210.0    50\n",
       "218.0    50\n",
       "         ..\n",
       "236.0    39\n",
       "237.0    33\n",
       "238.0    27\n",
       "239.0    17\n",
       "240.0     4\n",
       "Name: rank_review, Length: 240, dtype: int64"
      ]
     },
     "execution_count": 16,
     "metadata": {},
     "output_type": "execute_result"
    }
   ],
   "source": [
    "filtered_df['rank_review'].value_counts()"
   ]
  },
  {
   "cell_type": "code",
   "execution_count": 17,
   "id": "8e3d8f33",
   "metadata": {},
   "outputs": [
    {
     "data": {
      "text/html": [
       "<div>\n",
       "<style scoped>\n",
       "    .dataframe tbody tr th:only-of-type {\n",
       "        vertical-align: middle;\n",
       "    }\n",
       "\n",
       "    .dataframe tbody tr th {\n",
       "        vertical-align: top;\n",
       "    }\n",
       "\n",
       "    .dataframe thead th {\n",
       "        text-align: right;\n",
       "    }\n",
       "</style>\n",
       "<table border=\"1\" class=\"dataframe\">\n",
       "  <thead>\n",
       "    <tr style=\"text-align: right;\">\n",
       "      <th></th>\n",
       "      <th>rank</th>\n",
       "      <th>point</th>\n",
       "      <th>city_restaurant_no</th>\n",
       "      <th>review_n</th>\n",
       "      <th>rank_review</th>\n",
       "    </tr>\n",
       "  </thead>\n",
       "  <tbody>\n",
       "    <tr>\n",
       "      <th>count</th>\n",
       "      <td>12000.000000</td>\n",
       "      <td>11940.000000</td>\n",
       "      <td>12000.0</td>\n",
       "      <td>11835.000000</td>\n",
       "      <td>11835.000000</td>\n",
       "    </tr>\n",
       "    <tr>\n",
       "      <th>mean</th>\n",
       "      <td>120.500000</td>\n",
       "      <td>4.151935</td>\n",
       "      <td>240.0</td>\n",
       "      <td>483.190706</td>\n",
       "      <td>118.869793</td>\n",
       "    </tr>\n",
       "    <tr>\n",
       "      <th>std</th>\n",
       "      <td>69.284318</td>\n",
       "      <td>0.458953</td>\n",
       "      <td>0.0</td>\n",
       "      <td>827.838525</td>\n",
       "      <td>68.365522</td>\n",
       "    </tr>\n",
       "    <tr>\n",
       "      <th>min</th>\n",
       "      <td>1.000000</td>\n",
       "      <td>1.000000</td>\n",
       "      <td>240.0</td>\n",
       "      <td>1.000000</td>\n",
       "      <td>1.000000</td>\n",
       "    </tr>\n",
       "    <tr>\n",
       "      <th>25%</th>\n",
       "      <td>60.750000</td>\n",
       "      <td>3.900000</td>\n",
       "      <td>240.0</td>\n",
       "      <td>64.000000</td>\n",
       "      <td>60.000000</td>\n",
       "    </tr>\n",
       "    <tr>\n",
       "      <th>50%</th>\n",
       "      <td>120.500000</td>\n",
       "      <td>4.200000</td>\n",
       "      <td>240.0</td>\n",
       "      <td>216.000000</td>\n",
       "      <td>119.000000</td>\n",
       "    </tr>\n",
       "    <tr>\n",
       "      <th>75%</th>\n",
       "      <td>180.250000</td>\n",
       "      <td>4.400000</td>\n",
       "      <td>240.0</td>\n",
       "      <td>555.000000</td>\n",
       "      <td>178.000000</td>\n",
       "    </tr>\n",
       "    <tr>\n",
       "      <th>max</th>\n",
       "      <td>240.000000</td>\n",
       "      <td>5.000000</td>\n",
       "      <td>240.0</td>\n",
       "      <td>18400.000000</td>\n",
       "      <td>240.000000</td>\n",
       "    </tr>\n",
       "  </tbody>\n",
       "</table>\n",
       "</div>"
      ],
      "text/plain": [
       "               rank         point  city_restaurant_no      review_n  \\\n",
       "count  12000.000000  11940.000000             12000.0  11835.000000   \n",
       "mean     120.500000      4.151935               240.0    483.190706   \n",
       "std       69.284318      0.458953                 0.0    827.838525   \n",
       "min        1.000000      1.000000               240.0      1.000000   \n",
       "25%       60.750000      3.900000               240.0     64.000000   \n",
       "50%      120.500000      4.200000               240.0    216.000000   \n",
       "75%      180.250000      4.400000               240.0    555.000000   \n",
       "max      240.000000      5.000000               240.0  18400.000000   \n",
       "\n",
       "        rank_review  \n",
       "count  11835.000000  \n",
       "mean     118.869793  \n",
       "std       68.365522  \n",
       "min        1.000000  \n",
       "25%       60.000000  \n",
       "50%      119.000000  \n",
       "75%      178.000000  \n",
       "max      240.000000  "
      ]
     },
     "metadata": {},
     "output_type": "display_data"
    }
   ],
   "source": [
    "description = filtered_df.describe()\n",
    "display(description)"
   ]
  },
  {
   "cell_type": "code",
   "execution_count": 18,
   "id": "cfa81e39",
   "metadata": {},
   "outputs": [],
   "source": [
    "# 假设filtered_df包含了50个城市的数据，每个城市有240个餐厅的信息，\n",
    "# 并且已经按照'city'分组，每个城市内的餐厅已经根据'review_n'排好序，并有'rank'列\n",
    "\n",
    "# 创建一个空的DataFrame，用于存储抽样结果\n",
    "sampled_restaurants = pd.DataFrame(columns=filtered_df.columns)\n",
    "\n",
    "# 遍历每个城市\n",
    "for city, group in filtered_df.groupby('city'):\n",
    "    # 遍历每个组\n",
    "    for i in range(5):\n",
    "        # 计算每个组的起始和结束rank\n",
    "        start_rank = i * 48 + 1\n",
    "        end_rank = (i + 1) * 48\n",
    "        \n",
    "        # 对于最后一组，确保不超过餐厅总数\n",
    "        if i == 4:\n",
    "            end_rank = group.shape[0]\n",
    "        \n",
    "        # 获取当前组的餐厅\n",
    "        current_group = group[(group['rank_review'] >= start_rank) & (group['rank_review'] <= end_rank)]\n",
    "        \n",
    "        # 计算要抽取的餐厅数量\n",
    "        num_samples = 5 - i  # 第一组抽取5个，第二组抽取4个，以此类推\n",
    "        \n",
    "        # 随机抽取餐厅\n",
    "        sampled_group = current_group.sample(n=num_samples, random_state=2613)  # 使用random_state以确保可复现性\n",
    "        \n",
    "        # 将抽样结果添加到sampled_restaurants中\n",
    "        sampled_restaurants = pd.concat([sampled_restaurants, sampled_group])\n",
    "\n",
    "# sampled_restaurants中包含了按照您的要求抽样的餐厅数据"
   ]
  },
  {
   "cell_type": "code",
   "execution_count": 19,
   "id": "c19a6a66",
   "metadata": {},
   "outputs": [
    {
     "data": {
      "text/plain": [
       "(750, 8)"
      ]
     },
     "execution_count": 19,
     "metadata": {},
     "output_type": "execute_result"
    }
   ],
   "source": [
    "sampled_restaurants.shape"
   ]
  },
  {
   "cell_type": "code",
   "execution_count": 20,
   "id": "a77632b9",
   "metadata": {},
   "outputs": [
    {
     "data": {
      "text/plain": [
       "125.0    10\n",
       "44.0      9\n",
       "23.0      9\n",
       "27.0      9\n",
       "31.0      9\n",
       "         ..\n",
       "147.0     1\n",
       "235.0     1\n",
       "142.0     1\n",
       "128.0     1\n",
       "237.0     1\n",
       "Name: rank_review, Length: 210, dtype: int64"
      ]
     },
     "execution_count": 20,
     "metadata": {},
     "output_type": "execute_result"
    }
   ],
   "source": [
    "sampled_restaurants['rank_review'].value_counts()"
   ]
  },
  {
   "cell_type": "code",
   "execution_count": 26,
   "id": "d0144a11",
   "metadata": {},
   "outputs": [],
   "source": [
    "sampled_restaurants.drop(columns=['city_restaurant_no'], inplace=True)"
   ]
  },
  {
   "cell_type": "code",
   "execution_count": 27,
   "id": "e1e49da1",
   "metadata": {},
   "outputs": [
    {
     "data": {
      "text/html": [
       "<div>\n",
       "<style scoped>\n",
       "    .dataframe tbody tr th:only-of-type {\n",
       "        vertical-align: middle;\n",
       "    }\n",
       "\n",
       "    .dataframe tbody tr th {\n",
       "        vertical-align: top;\n",
       "    }\n",
       "\n",
       "    .dataframe thead th {\n",
       "        text-align: right;\n",
       "    }\n",
       "</style>\n",
       "<table border=\"1\" class=\"dataframe\">\n",
       "  <thead>\n",
       "    <tr style=\"text-align: right;\">\n",
       "      <th></th>\n",
       "      <th>city</th>\n",
       "      <th>title</th>\n",
       "      <th>rank</th>\n",
       "      <th>point</th>\n",
       "      <th>link</th>\n",
       "      <th>review_n</th>\n",
       "      <th>rank_review</th>\n",
       "    </tr>\n",
       "  </thead>\n",
       "  <tbody>\n",
       "    <tr>\n",
       "      <th>1195</th>\n",
       "      <td>Alameda</td>\n",
       "      <td>Jong Ga House</td>\n",
       "      <td>236</td>\n",
       "      <td>4.0</td>\n",
       "      <td>/biz/jong-ga-house-oakland</td>\n",
       "      <td>2300.0</td>\n",
       "      <td>8.0</td>\n",
       "    </tr>\n",
       "    <tr>\n",
       "      <th>1110</th>\n",
       "      <td>Alameda</td>\n",
       "      <td>Brendas Oakland</td>\n",
       "      <td>151</td>\n",
       "      <td>3.9</td>\n",
       "      <td>/biz/brendas-oakland-oakland</td>\n",
       "      <td>1000.0</td>\n",
       "      <td>33.0</td>\n",
       "    </tr>\n",
       "    <tr>\n",
       "      <th>1160</th>\n",
       "      <td>Alameda</td>\n",
       "      <td>Homeroom</td>\n",
       "      <td>201</td>\n",
       "      <td>4.1</td>\n",
       "      <td>/biz/homeroom-oakland</td>\n",
       "      <td>6500.0</td>\n",
       "      <td>1.0</td>\n",
       "    </tr>\n",
       "    <tr>\n",
       "      <th>995</th>\n",
       "      <td>Alameda</td>\n",
       "      <td>Yojimbo</td>\n",
       "      <td>36</td>\n",
       "      <td>3.9</td>\n",
       "      <td>/biz/yojimbo-alameda</td>\n",
       "      <td>1700.0</td>\n",
       "      <td>14.0</td>\n",
       "    </tr>\n",
       "    <tr>\n",
       "      <th>1142</th>\n",
       "      <td>Alameda</td>\n",
       "      <td>Quinns Lighthouse</td>\n",
       "      <td>183</td>\n",
       "      <td>3.5</td>\n",
       "      <td>/biz/quinns-lighthouse-oakland</td>\n",
       "      <td>1000.0</td>\n",
       "      <td>34.0</td>\n",
       "    </tr>\n",
       "  </tbody>\n",
       "</table>\n",
       "</div>"
      ],
      "text/plain": [
       "         city              title rank  point                            link  \\\n",
       "1195  Alameda      Jong Ga House  236    4.0      /biz/jong-ga-house-oakland   \n",
       "1110  Alameda    Brendas Oakland  151    3.9    /biz/brendas-oakland-oakland   \n",
       "1160  Alameda           Homeroom  201    4.1           /biz/homeroom-oakland   \n",
       "995   Alameda            Yojimbo   36    3.9            /biz/yojimbo-alameda   \n",
       "1142  Alameda  Quinns Lighthouse  183    3.5  /biz/quinns-lighthouse-oakland   \n",
       "\n",
       "      review_n  rank_review  \n",
       "1195    2300.0          8.0  \n",
       "1110    1000.0         33.0  \n",
       "1160    6500.0          1.0  \n",
       "995     1700.0         14.0  \n",
       "1142    1000.0         34.0  "
      ]
     },
     "metadata": {},
     "output_type": "display_data"
    }
   ],
   "source": [
    "table = sampled_restaurants.head()\n",
    "display(table)"
   ]
  },
  {
   "cell_type": "code",
   "execution_count": 28,
   "id": "0c71cd2c",
   "metadata": {},
   "outputs": [
    {
     "data": {
      "text/html": [
       "<div>\n",
       "<style scoped>\n",
       "    .dataframe tbody tr th:only-of-type {\n",
       "        vertical-align: middle;\n",
       "    }\n",
       "\n",
       "    .dataframe tbody tr th {\n",
       "        vertical-align: top;\n",
       "    }\n",
       "\n",
       "    .dataframe thead th {\n",
       "        text-align: right;\n",
       "    }\n",
       "</style>\n",
       "<table border=\"1\" class=\"dataframe\">\n",
       "  <thead>\n",
       "    <tr style=\"text-align: right;\">\n",
       "      <th></th>\n",
       "      <th>point</th>\n",
       "      <th>review_n</th>\n",
       "      <th>rank_review</th>\n",
       "    </tr>\n",
       "  </thead>\n",
       "  <tbody>\n",
       "    <tr>\n",
       "      <th>count</th>\n",
       "      <td>750.000000</td>\n",
       "      <td>750.000000</td>\n",
       "      <td>750.000000</td>\n",
       "    </tr>\n",
       "    <tr>\n",
       "      <th>mean</th>\n",
       "      <td>4.005333</td>\n",
       "      <td>717.205333</td>\n",
       "      <td>88.748000</td>\n",
       "    </tr>\n",
       "    <tr>\n",
       "      <th>std</th>\n",
       "      <td>0.497281</td>\n",
       "      <td>1212.276010</td>\n",
       "      <td>60.862815</td>\n",
       "    </tr>\n",
       "    <tr>\n",
       "      <th>min</th>\n",
       "      <td>1.000000</td>\n",
       "      <td>1.000000</td>\n",
       "      <td>1.000000</td>\n",
       "    </tr>\n",
       "    <tr>\n",
       "      <th>25%</th>\n",
       "      <td>3.800000</td>\n",
       "      <td>158.250000</td>\n",
       "      <td>37.000000</td>\n",
       "    </tr>\n",
       "    <tr>\n",
       "      <th>50%</th>\n",
       "      <td>4.100000</td>\n",
       "      <td>388.000000</td>\n",
       "      <td>80.000000</td>\n",
       "    </tr>\n",
       "    <tr>\n",
       "      <th>75%</th>\n",
       "      <td>4.300000</td>\n",
       "      <td>836.750000</td>\n",
       "      <td>131.000000</td>\n",
       "    </tr>\n",
       "    <tr>\n",
       "      <th>max</th>\n",
       "      <td>5.000000</td>\n",
       "      <td>18400.000000</td>\n",
       "      <td>239.000000</td>\n",
       "    </tr>\n",
       "  </tbody>\n",
       "</table>\n",
       "</div>"
      ],
      "text/plain": [
       "            point      review_n  rank_review\n",
       "count  750.000000    750.000000   750.000000\n",
       "mean     4.005333    717.205333    88.748000\n",
       "std      0.497281   1212.276010    60.862815\n",
       "min      1.000000      1.000000     1.000000\n",
       "25%      3.800000    158.250000    37.000000\n",
       "50%      4.100000    388.000000    80.000000\n",
       "75%      4.300000    836.750000   131.000000\n",
       "max      5.000000  18400.000000   239.000000"
      ]
     },
     "metadata": {},
     "output_type": "display_data"
    }
   ],
   "source": [
    "description = sampled_restaurants.describe()\n",
    "display(description)"
   ]
  },
  {
   "cell_type": "code",
   "execution_count": 29,
   "id": "c3a392b5",
   "metadata": {},
   "outputs": [],
   "source": [
    "sampled_restaurants.to_csv('sampled_restaurants.csv', index=False)"
   ]
  },
  {
   "cell_type": "code",
   "execution_count": null,
   "id": "13181159",
   "metadata": {},
   "outputs": [],
   "source": []
  }
 ],
 "metadata": {
  "kernelspec": {
   "display_name": "Python 3 (ipykernel)",
   "language": "python",
   "name": "python3"
  },
  "language_info": {
   "codemirror_mode": {
    "name": "ipython",
    "version": 3
   },
   "file_extension": ".py",
   "mimetype": "text/x-python",
   "name": "python",
   "nbconvert_exporter": "python",
   "pygments_lexer": "ipython3",
   "version": "3.10.10"
  }
 },
 "nbformat": 4,
 "nbformat_minor": 5
}
